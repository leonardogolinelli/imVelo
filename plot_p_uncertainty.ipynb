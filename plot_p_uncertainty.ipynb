{
 "cells": [
  {
   "cell_type": "code",
   "execution_count": 1,
   "metadata": {},
   "outputs": [],
   "source": [
    "import scanpy as sc\n",
    "import scvelo as scv\n",
    "from plotting import compute_velocity_sign_uncertainty\n",
    "import matplotlib.pyplot as plt\n",
    "import numpy as np\n",
    "import pandas as pd"
   ]
  },
  {
   "cell_type": "code",
   "execution_count": 2,
   "metadata": {},
   "outputs": [
    {
     "name": "stdout",
     "output_type": "stream",
     "text": [
      "Printing gene sign discrepancies for dataset: forebrain\n",
      "  gene_name  gene_sign_discrepancy\n",
      "0     Fabp7               0.643277\n",
      "1     Epha3               0.593537\n",
      "2     Gpm6a               0.584667\n",
      "3       Ptn               0.568073\n",
      "4     Eif3e               0.563050\n",
      "Printing gene sign discrepancies for dataset: pancreas\n",
      "  gene_name  gene_sign_discrepancy\n",
      "0      Spp1               0.511310\n",
      "1     Top2a               0.510541\n",
      "2      Chgb               0.444122\n",
      "3       Ttr               0.434643\n",
      "4       Cck               0.422276\n",
      "Printing gene sign discrepancies for dataset: gastrulation_erythroid\n",
      "  gene_name  gene_sign_discrepancy\n",
      "0   Hbb-bh1               0.984982\n",
      "1     Hba-x               0.977486\n",
      "2    Hba-a1               0.958023\n",
      "3    Hba-a2               0.875603\n",
      "4      Fth1               0.741088\n",
      "Printing gene sign discrepancies for dataset: dentategyrus_lamanno_P5\n",
      "  gene_name  gene_sign_discrepancy\n",
      "0       Dcc               0.625846\n",
      "1      Nfib               0.618352\n",
      "2       Mdk               0.544397\n",
      "3     Plcb1               0.513818\n",
      "4      Tac2               0.476923\n"
     ]
    }
   ],
   "source": [
    "datasets = [\"forebrain\", \"pancreas\", \"gastrulation_erythroid\", \"dentategyrus_lamanno_P5\"]\n",
    "cell_type_keys = [\"Clusters\", \"clusters\", \"celltype\", \"clusters\"]\n",
    "\n",
    "for dataset in datasets:\n",
    "    adata = sc.read_h5ad(f\"benchmark/imVelo/{dataset}/imVelo_{dataset}.h5ad\")\n",
    "    compute_velocity_sign_uncertainty(adata, \"mean\")\n",
    "\n",
    "    # Create the DataFrame\n",
    "    df = pd.DataFrame({\n",
    "        \"gene_name\": list(adata.var_names),\n",
    "        \"gene_sign_discrepancy\": adata.var[\"p_gene_uncertainty\"]\n",
    "    })\n",
    "\n",
    "    # Sort the DataFrame in decreasing order of uncertainty\n",
    "    df_sorted = df.sort_values(by=\"gene_sign_discrepancy\", ascending=False).reset_index(drop=True)\n",
    "\n",
    "    # Display the sorted DataFrame\n",
    "    print(f\"Printing gene sign discrepancies for dataset: {dataset}\")\n",
    "    print(df_sorted[:5])\n"
   ]
  },
  {
   "cell_type": "code",
   "execution_count": null,
   "metadata": {},
   "outputs": [],
   "source": [
    "sc.pl.scatter(adata, x=\"isomap_1\", y=\"Hba-x\", color=\"celltype\")"
   ]
  },
  {
   "cell_type": "code",
   "execution_count": null,
   "metadata": {},
   "outputs": [],
   "source": [
    "adata.var_names"
   ]
  },
  {
   "cell_type": "code",
   "execution_count": null,
   "metadata": {},
   "outputs": [],
   "source": [
    "list(adata[:,np.argsort(adata.var[\"p_gene_uncertainty\"])[::-1]].var_names)"
   ]
  },
  {
   "cell_type": "code",
   "execution_count": null,
   "metadata": {},
   "outputs": [],
   "source": [
    "sc.pl.violin(adata_T, keys=\"p_gene_uncertainty\")"
   ]
  },
  {
   "cell_type": "code",
   "execution_count": null,
   "metadata": {},
   "outputs": [],
   "source": [
    "import numpy as np\n",
    "np.argmax(adata.var[\"p_gene_uncertainty\"])"
   ]
  },
  {
   "cell_type": "code",
   "execution_count": null,
   "metadata": {},
   "outputs": [],
   "source": [
    "sc.pl.umap(adata, layer=\"velocity\", color=\"Hbb-bh1\")"
   ]
  },
  {
   "cell_type": "code",
   "execution_count": null,
   "metadata": {},
   "outputs": [],
   "source": []
  },
  {
   "cell_type": "code",
   "execution_count": null,
   "metadata": {},
   "outputs": [],
   "source": [
    "adata.var[\"p_gene_uncertainty\"][1224]"
   ]
  },
  {
   "cell_type": "code",
   "execution_count": null,
   "metadata": {},
   "outputs": [],
   "source": [
    "adata.layers[\"pp\"][:,1224].mean()"
   ]
  },
  {
   "cell_type": "code",
   "execution_count": null,
   "metadata": {},
   "outputs": [],
   "source": [
    "adata.layers[\"nn\"][:,1224].mean()"
   ]
  },
  {
   "cell_type": "code",
   "execution_count": null,
   "metadata": {},
   "outputs": [],
   "source": [
    "adata.layers[\"pn\"][:,1224].mean()"
   ]
  },
  {
   "cell_type": "code",
   "execution_count": null,
   "metadata": {},
   "outputs": [],
   "source": [
    "adata.layers[\"np\"][:,1224].mean()"
   ]
  },
  {
   "cell_type": "code",
   "execution_count": null,
   "metadata": {},
   "outputs": [],
   "source": [
    "sc.pl.scatter(adata, x=\"isomap_1\", y=\"Hbb-bh1\", layers=\"velocity\",color=\"celltype\")"
   ]
  },
  {
   "cell_type": "code",
   "execution_count": null,
   "metadata": {},
   "outputs": [],
   "source": []
  },
  {
   "cell_type": "code",
   "execution_count": null,
   "metadata": {},
   "outputs": [],
   "source": [
    "sc.pl.scatter(adata, x=\"isomap_1\", y=\"Hbb-bh1\", color=\"celltype\")"
   ]
  },
  {
   "cell_type": "code",
   "execution_count": null,
   "metadata": {},
   "outputs": [],
   "source": [
    "adata.var_names[1224]"
   ]
  }
 ],
 "metadata": {
  "kernelspec": {
   "display_name": "DeepTrajectory",
   "language": "python",
   "name": "python3"
  },
  "language_info": {
   "codemirror_mode": {
    "name": "ipython",
    "version": 3
   },
   "file_extension": ".py",
   "mimetype": "text/x-python",
   "name": "python",
   "nbconvert_exporter": "python",
   "pygments_lexer": "ipython3",
   "version": "3.11.7"
  }
 },
 "nbformat": 4,
 "nbformat_minor": 2
}
