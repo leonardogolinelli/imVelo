{
 "cells": [
  {
   "cell_type": "code",
   "execution_count": 1,
   "metadata": {},
   "outputs": [
    {
     "name": "stderr",
     "output_type": "stream",
     "text": [
      "WARNING:root:In order to use the mouse gastrulation seqFISH datsets, please install squidpy (see https://github.com/scverse/squidpy).\n",
      "WARNING:root:In order to use sagenet models, please install pytorch geometric (see https://pytorch-geometric.readthedocs.io) and \n",
      " captum (see https://github.com/pytorch/captum).\n",
      "WARNING:root:mvTCR is not installed. To use mvTCR models, please install it first using \"pip install mvtcr\"\n",
      "WARNING:root:multigrate is not installed. To use multigrate models, please install it first using \"pip install multigrate\".\n"
     ]
    }
   ],
   "source": [
    "from preprocessing import setup_adata\n",
    "from train import Trainer\n",
    "from utils import *\n",
    "from plotting import *\n",
    "from metrics import * "
   ]
  },
  {
   "cell_type": "markdown",
   "metadata": {},
   "source": [
    "### Preprocessing parameters"
   ]
  },
  {
   "cell_type": "code",
   "execution_count": 2,
   "metadata": {},
   "outputs": [],
   "source": [
    "dataset_name = \"pancreas\"\n",
    "preproc_adata = True\n",
    "smooth_k = 200\n",
    "n_highly_var_genes = 4000\n",
    "cell_type_key = \"clusters\"\n",
    "save_umap = False\n",
    "show_umap = False\n",
    "unspliced_key = \"unspliced\"\n",
    "spliced_key = \"spliced\"\n",
    "filter_on_r2 = False\n",
    "knn_rep = \"PCA\"\n",
    "n_components = 1\n",
    "n_knn_search = 10\n",
    "best_key = None\n",
    "K = 31\n",
    "ve_layer = \"None\""
   ]
  },
  {
   "cell_type": "markdown",
   "metadata": {},
   "source": [
    "### Training parameters"
   ]
  },
  {
   "cell_type": "code",
   "execution_count": 3,
   "metadata": {},
   "outputs": [],
   "source": [
    "model_hidden_dim = 512\n",
    "K= K\n",
    "train_size = 1\n",
    "batch_size = 256\n",
    "n_epochs = 2500\n",
    "first_regime_end = 2000\n",
    "kl_start = 1e-5\n",
    "base_lr = 1e-4\n",
    "recon_loss_weight = 1\n",
    "empirical_loss_weight = 1\n",
    "kl_weight_upper = 1e-4\n",
    "p_loss_weight = 1e-1\n",
    "split_data = False\n",
    "weight_decay = 1e-4"
   ]
  },
  {
   "cell_type": "markdown",
   "metadata": {},
   "source": [
    "### Run preprocessing"
   ]
  },
  {
   "cell_type": "code",
   "execution_count": 4,
   "metadata": {},
   "outputs": [
    {
     "name": "stdout",
     "output_type": "stream",
     "text": [
      "\n",
      "pancreas\n"
     ]
    }
   ],
   "source": [
    "adata = setup_adata(dataset_name=dataset_name,\n",
    "                        preproc_adata=preproc_adata,\n",
    "                        smooth_k=smooth_k,\n",
    "                        n_highly_var_genes=n_highly_var_genes,\n",
    "                        cell_type_key=cell_type_key,\n",
    "                        save_umap=save_umap,\n",
    "                        show_umap=show_umap,\n",
    "                        unspliced_key=unspliced_key,\n",
    "                        spliced_key=spliced_key,\n",
    "                        filter_on_r2=filter_on_r2,\n",
    "                        knn_rep=knn_rep,\n",
    "                        n_components = n_components,\n",
    "                        n_knn_search=n_knn_search,\n",
    "                        best_key=best_key,\n",
    "                        K = K,\n",
    "                        ve_layer= ve_layer)"
   ]
  },
  {
   "cell_type": "markdown",
   "metadata": {},
   "source": [
    "### Initialize Trainer and run"
   ]
  },
  {
   "cell_type": "code",
   "execution_count": null,
   "metadata": {},
   "outputs": [],
   "source": [
    "trainer = Trainer(\n",
    "    adata = adata,\n",
    "    model_hidden_dim= model_hidden_dim,\n",
    "    K= K,\n",
    "    train_size= train_size,\n",
    "    batch_size= batch_size,\n",
    "    n_epochs= n_epochs,\n",
    "    first_regime_end= first_regime_end,\n",
    "    kl_start= kl_start,\n",
    "    base_lr= base_lr,\n",
    "    recon_loss_weight= recon_loss_weight,\n",
    "    empirical_loss_weight= empirical_loss_weight,\n",
    "    kl_weight_upper= kl_weight_upper,\n",
    "    p_loss_weight= p_loss_weight,\n",
    "    split_data= split_data,\n",
    "    weight_decay= weight_decay\n",
    ")\n",
    "\n",
    "print(\"running first and second regime\")\n",
    "model = trainer.train()\n",
    "trainer.self_extract_outputs()\n",
    "save_adata(adata, dataset_name, K, knn_rep, save_first_regime=False)\n",
    "save_model(model, dataset_name, K, knn_rep, save_first_regime=False)\n",
    "save_trainer(trainer, dataset_name, K, knn_rep, save_first_regime=False)"
   ]
  },
  {
   "cell_type": "markdown",
   "metadata": {},
   "source": [
    "### Downstream analysis"
   ]
  },
  {
   "cell_type": "code",
   "execution_count": null,
   "metadata": {},
   "outputs": [],
   "source": [
    "show = False\n",
    "top_N = 3\n",
    "\n",
    "#plot_losses(trainer, dataset_name, K,figsize=(20, 10))\n",
    "#plot_isomaps(adata, dataset_name, K, cell_type_key)\n",
    "#if backward_velocity:\n",
    "#    self.self_backward_velocity()\n",
    "plot_embeddings(adata, dataset_name, K, cell_type_key)\n",
    "#compute_scvelo_metrics(adata, dataset_name, K, show, cell_type_key = cell_type_key)\n",
    "gpvelo_plots(adata, dataset_name, K, cell_type_key)\n",
    "#plot_important_genes(adata, dataset_name, K, cell_type_key)\n",
    "#deg_genes(adata, dataset_name, K, cell_type_key, n_deg_rows=5)\n",
    "bayes_factors(adata, cell_type_key, top_N, dataset_name, K, show_plot=False, save_plot=True)\n",
    "#estimate_uncertainty(adata, model, batch_size=256, n_jobs=1, show=show, dataset=dataset_name, K=K)\n",
    "save_adata(adata, dataset_name, K, knn_rep, save_first_regime=False)"
   ]
  }
 ],
 "metadata": {
  "kernelspec": {
   "display_name": "Python 3",
   "language": "python",
   "name": "python3"
  },
  "language_info": {
   "codemirror_mode": {
    "name": "ipython",
    "version": 3
   },
   "file_extension": ".py",
   "mimetype": "text/x-python",
   "name": "python",
   "nbconvert_exporter": "python",
   "pygments_lexer": "ipython3",
   "version": "3.11.7"
  }
 },
 "nbformat": 4,
 "nbformat_minor": 2
}
