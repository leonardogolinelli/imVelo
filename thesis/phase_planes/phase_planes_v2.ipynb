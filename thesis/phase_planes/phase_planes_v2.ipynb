{
 "cells": [
  {
   "cell_type": "code",
   "execution_count": null,
   "metadata": {},
   "outputs": [],
   "source": []
  },
  {
   "cell_type": "code",
   "execution_count": null,
   "metadata": {},
   "outputs": [],
   "source": []
  },
  {
   "cell_type": "code",
   "execution_count": null,
   "metadata": {},
   "outputs": [],
   "source": [
    "return_gnames()"
   ]
  },
  {
   "cell_type": "code",
   "execution_count": null,
   "metadata": {},
   "outputs": [],
   "source": [
    "datasets = [\"forebrain\", \"pancreas\", \"gastrulation_erythroid\", \"dentategyrus_lamanno_P5\"]\n",
    "cell_type_keys = [\"Clusters\", \"clusters\", \"celltype\", \"clusters\"]\n",
    "model_names = [\"imVelo\", \"lsvelo\", \"celldancer\", \"deepvelo\", \"ivelo\", \"ivelo_filtered\", \"velovi\", \"velovi_filtered\", \"scvelo\", \"stochastic\"]\n",
    "\n",
    "\n",
    "for model_name in model_names:\n",
    "    print(f\"model name: {model_name}\")\n",
    "    for dataset, cell_type_key in zip(datasets, cell_type_keys):\n",
    "        print(f\"dataset: {dataset}\")\n",
    "        adata = sc.read_h5ad(f\"../../benchmark/imVelo/{dataset}/{model_name}_{dataset}.h5ad\")\n",
    "        for gene_name in return_gnames():\n",
    "            print(f\"gene name: {gene_name}\")\n",
    "            os.makedirs(f\"plots/\", exist_ok=True)\n",
    "            if gene_name in list(adata.var_names):\n",
    "                plot_phase_plane(adata, gene_name, u_scale=0.1, s_scale=0.1, \n",
    "                                cell_type_key=cell_type_key, dataset=dataset, \n",
    "                                K=11, save_path= f\"plots/{model_name}_{dataset}_{gene_name}.png\", \n",
    "                                save_plot=True)\n",
    "            else:\n",
    "                print(f\"skippin'\")"
   ]
  }
 ],
 "metadata": {
  "kernelspec": {
   "display_name": "DeepTrajectory",
   "language": "python",
   "name": "python3"
  },
  "language_info": {
   "codemirror_mode": {
    "name": "ipython",
    "version": 3
   },
   "file_extension": ".py",
   "mimetype": "text/x-python",
   "name": "python",
   "nbconvert_exporter": "python",
   "pygments_lexer": "ipython3",
   "version": "3.11.7"
  }
 },
 "nbformat": 4,
 "nbformat_minor": 2
}
