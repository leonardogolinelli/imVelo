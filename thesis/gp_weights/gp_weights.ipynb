{
 "cells": [
  {
   "cell_type": "code",
   "execution_count": 1,
   "metadata": {},
   "outputs": [],
   "source": [
    "import numpy as np\n",
    "import matplotlib.pyplot as plt\n",
    "import scanpy as sc\n",
    "import sys\n",
    "import os\n",
    "\n",
    "# Add the parent directory to the system path\n",
    "parent_directory = os.path.abspath(os.path.join(os.getcwd(), '../../'))\n",
    "sys.path.append(parent_directory)\n",
    "\n",
    "from plotting import plot_velocity_expression_gp, plot_phase_plane_gp, plot_activation_or_velocity_two_gene_programs, gp_phase_plane_no_velocity\n"
   ]
  },
  {
   "cell_type": "code",
   "execution_count": 2,
   "metadata": {},
   "outputs": [],
   "source": [
    "dataset = \"gastrulation_erythroid\"\n",
    "cell_type_key = \"celltype\"\n",
    "model_name = \"imVelo\"\n",
    "plot_type = \"\"\n",
    "#gp1, gp2 = pairs_dic[dataset][3]\n",
    "\n",
    "\n",
    "\n",
    "adata = sc.read_h5ad(f\"../../benchmark/{model_name}/{dataset}/{model_name}_{dataset}.h5ad\")"
   ]
  },
  {
   "cell_type": "code",
   "execution_count": 6,
   "metadata": {},
   "outputs": [
    {
     "data": {
      "text/plain": [
       "(3044, 247)"
      ]
     },
     "execution_count": 6,
     "metadata": {},
     "output_type": "execute_result"
    }
   ],
   "source": [
    "adata.uns[\"linear_weights\"].shape"
   ]
  },
  {
   "cell_type": "code",
   "execution_count": 11,
   "metadata": {},
   "outputs": [],
   "source": [
    "gene_names = list(adata.var_names)\n",
    "gene_names = [name+\"_u\" for name in gene_names] + [name+\"_s\" for name in gene_names]"
   ]
  },
  {
   "cell_type": "code",
   "execution_count": 13,
   "metadata": {},
   "outputs": [
    {
     "name": "stdout",
     "output_type": "stream",
     "text": [
      "   gene_name    weight\n",
      "0     Mdh1_u  2.534360\n",
      "1  Aldh9a1_s  2.273505\n",
      "2    Hba-x_s -1.991485\n",
      "3     Eef2_s -1.803029\n",
      "4  Hbb-bh1_s -1.713716\n"
     ]
    }
   ],
   "source": [
    "import pandas as pd\n",
    "import numpy as np\n",
    "\n",
    "def rank_genes_by_weight(adata, gene_program_name):\n",
    "    # Locate the index of the gene program\n",
    "    try:\n",
    "        gene_program_index = list(adata.uns[\"terms\"]).index(gene_program_name)\n",
    "    except ValueError:\n",
    "        raise ValueError(f\"Gene program '{gene_program_name}' not found in adata.uns['gene_program_names']\")\n",
    "\n",
    "    # Extract the gene weights for the specified gene program\n",
    "    gene_weights = adata.uns[\"linear_weights\"][:,gene_program_index]\n",
    "    \n",
    "    # Create a dataframe with gene names and their corresponding weights\n",
    "    df = pd.DataFrame({\n",
    "        'gene_name': gene_names,\n",
    "        'weight': gene_weights\n",
    "    })\n",
    "    \n",
    "    # Sort the dataframe by the absolute value of weights, keeping the original sign\n",
    "    df['abs_weight'] = np.abs(df['weight'])\n",
    "    ranked_df = df.sort_values(by='abs_weight', ascending=False).drop(columns='abs_weight')\n",
    "    \n",
    "    return ranked_df.reset_index(drop=True)\n",
    "\n",
    "# Usage example:\n",
    "gene_program_name = 'ERYTHROID-LIKE_AND_ERYTHROID_P'\n",
    "ranked_genes_df = rank_genes_by_weight(adata, gene_program_name)\n",
    "# Display or print the result\n",
    "print(ranked_genes_df[:5])\n"
   ]
  }
 ],
 "metadata": {
  "kernelspec": {
   "display_name": "DeepTrajectory",
   "language": "python",
   "name": "python3"
  },
  "language_info": {
   "codemirror_mode": {
    "name": "ipython",
    "version": 3
   },
   "file_extension": ".py",
   "mimetype": "text/x-python",
   "name": "python",
   "nbconvert_exporter": "python",
   "pygments_lexer": "ipython3",
   "version": "3.11.7"
  }
 },
 "nbformat": 4,
 "nbformat_minor": 2
}
