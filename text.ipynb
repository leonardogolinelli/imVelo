{
 "cells": [
  {
   "cell_type": "code",
   "execution_count": null,
   "metadata": {},
   "outputs": [],
   "source": [
    "import scanpy as sc\n",
    "import torch\n",
    "from model import VAE\n",
    "\"\"\"\n",
    "# Load the data\n",
    "adata_path = \"/mnt/data2/home/leonardo/git/multilineage_velocity/pancreas_test_2499/pancreas/K11/adata/adata_K11_dt_ve.h5ad\"\n",
    "pan = sc.read_h5ad(adata_path)\n",
    "\"\"\""
   ]
  },
  {
   "cell_type": "code",
   "execution_count": null,
   "metadata": {},
   "outputs": [],
   "source": [
    "gastrulation_path = \"/mnt/data2/home/leonardo/git/multilineage_velocity/benchmark/imVelo/pancreas/imVelo_pancreas.h5ad\"\n",
    "adata = sc.read_h5ad(gastrulation_path)\n"
   ]
  },
  {
   "cell_type": "code",
   "execution_count": null,
   "metadata": {},
   "outputs": [],
   "source": [
    "gene_name = \"Gnas\""
   ]
  },
  {
   "cell_type": "code",
   "execution_count": null,
   "metadata": {},
   "outputs": [],
   "source": [
    "sc.pl.scatter(adata, x=\"isomap_1\", y=f\"{gene_name}\", layers=\"velocity_u\", color=\"clusters\",\n",
    "              title=\"unspliced velocity over time\")\n",
    "\n",
    "sc.pl.scatter(adata, x=\"isomap_1\", y=f\"{gene_name}\", layers=\"velocity\", color=\"clusters\",\n",
    "              title=\"spliced velocity over time\")\n",
    "\n",
    "sc.pl.scatter(adata, x=\"isomap_1\", y=f\"{gene_name}\", layers=\"Mu\", color=\"clusters\",\n",
    "              title=\"Unspliced expression over time\")\n",
    "\n",
    "sc.pl.scatter(adata, x=\"isomap_1\", y=f\"{gene_name}\", layers=\"Ms\", color=\"clusters\",\n",
    "              title=\"Spliced expression over time\")"
   ]
  },
  {
   "cell_type": "code",
   "execution_count": null,
   "metadata": {},
   "outputs": [],
   "source": []
  },
  {
   "cell_type": "code",
   "execution_count": null,
   "metadata": {},
   "outputs": [],
   "source": [
    "tot = 0\n",
    "for key in [\"nn\", \"pp\", \"pn\", \"np\"]:\n",
    "    tot += adata.layers[key]\n",
    "\n",
    "tot = tot/4\n",
    "\n",
    "adata.layers[\"total_discrepancy\"] = tot\n",
    "\n",
    "sc.pl.umap(adata, color=\"Tecr\", layer=\"total_discrepancy\")"
   ]
  },
  {
   "cell_type": "code",
   "execution_count": null,
   "metadata": {},
   "outputs": [],
   "source": [
    "sc.pl.umap(adata, color=\"p_cell_uncertainty\")"
   ]
  },
  {
   "cell_type": "code",
   "execution_count": null,
   "metadata": {},
   "outputs": [],
   "source": [
    "import scanpy as sc\n",
    "import torch\n",
    "from model import VAE\n",
    "\n",
    "# Load the data\n",
    "adata_path = \"/mnt/data2/home/leonardo/git/multilineage_velocity/benchmark/imVelo/forebrain/imVelo_forebrain.h5ad\"\n",
    "adata = sc.read_h5ad(adata_path)\n",
    "\n",
    "# Initialize your model\n",
    "model = VAE(adata)\n",
    "\n",
    "# Load the checkpoint\n",
    "model_path = \"/mnt/data2/home/leonardo/git/multilineage_velocity/forebrain/model_epoch_20035.pt\"\n",
    "checkpoint = torch.load(model_path)\n",
    "\n",
    "# Load the model state dictionary from the checkpoint\n",
    "model.load_state_dict(checkpoint['model_state_dict'])\n",
    "\n",
    "# Set the model to evaluation mode\n",
    "model.eval()  # Recommended for inference/evaluation\n",
    "\n",
    "from dataloaders import setup_dataloaders\n",
    "_,_,dataloader = setup_dataloaders(adata, 256, train_size=1, split_data=False)\n",
    "\n",
    "from metrics import compute_and_plot_velocity_coherence\n",
    "compute_and_plot_velocity_coherence(adata, model, dataloader, 'forebrain', 'Clusters', save_figures=True)"
   ]
  }
 ],
 "metadata": {
  "kernelspec": {
   "display_name": "DeepTrajectory",
   "language": "python",
   "name": "python3"
  },
  "language_info": {
   "codemirror_mode": {
    "name": "ipython",
    "version": 3
   },
   "file_extension": ".py",
   "mimetype": "text/x-python",
   "name": "python",
   "nbconvert_exporter": "python",
   "pygments_lexer": "ipython3",
   "version": "3.11.7"
  }
 },
 "nbformat": 4,
 "nbformat_minor": 2
}
