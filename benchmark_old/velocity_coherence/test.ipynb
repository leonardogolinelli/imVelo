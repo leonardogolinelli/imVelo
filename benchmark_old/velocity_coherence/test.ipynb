{
 "cells": [
  {
   "cell_type": "code",
   "execution_count": null,
   "metadata": {},
   "outputs": [],
   "source": [
    "import pickle\n",
    "import numpy \n",
    "import scanpy\n",
    "\n",
    "\n",
    "# Path to store/load the coherence dictionary\n",
    "dic_path = \"coherences.pkl\"\n",
    "\n",
    "# Load the dictionary from the Pickle file if it exists\n",
    "try:\n",
    "    with open(dic_path, \"rb\") as pickle_file:\n",
    "        coherences = pickle.load(pickle_file)\n",
    "except FileNotFoundError:\n",
    "    # If the Pickle file does not exist, initialize an empty dictionary\n",
    "    coherences = {}\n",
    "\n",
    "coherences[\"forebrain\"][\"imVelo\"]\n"
   ]
  },
  {
   "cell_type": "code",
   "execution_count": null,
   "metadata": {},
   "outputs": [],
   "source": [
    "import scanpy as sc"
   ]
  },
  {
   "cell_type": "code",
   "execution_count": null,
   "metadata": {},
   "outputs": [],
   "source": [
    "adata = sc.read_h5ad(\"/mnt/data2/home/leonardo/git/multilineage_velocity/benchmark/imVelo/dentategyrus_lamanno_P5/dentategyrus_lamanno_P5/K31/adata/adata_K31_dt_pca.h5ad\")"
   ]
  },
  {
   "cell_type": "code",
   "execution_count": null,
   "metadata": {},
   "outputs": [],
   "source": [
    "import scvelo as scv"
   ]
  },
  {
   "cell_type": "code",
   "execution_count": null,
   "metadata": {},
   "outputs": [],
   "source": [
    "scv.tl.velocity(adata, vkey=\"velocity_stochastic\")"
   ]
  },
  {
   "cell_type": "code",
   "execution_count": null,
   "metadata": {},
   "outputs": [],
   "source": [
    "adata.var"
   ]
  },
  {
   "cell_type": "code",
   "execution_count": null,
   "metadata": {},
   "outputs": [],
   "source": [
    "adata = adata[:,adata.var[\"velocity_stochastic_genes\"]].copy()"
   ]
  },
  {
   "cell_type": "code",
   "execution_count": null,
   "metadata": {},
   "outputs": [],
   "source": [
    "scv.tl.velocity_graph(adata)\n",
    "scv.pl.velocity_embedding_stream(adata, color=\"clusters\")"
   ]
  },
  {
   "cell_type": "code",
   "execution_count": null,
   "metadata": {},
   "outputs": [],
   "source": [
    "import numpy as np"
   ]
  },
  {
   "cell_type": "code",
   "execution_count": null,
   "metadata": {},
   "outputs": [],
   "source": [
    "adata.X = adata.X.toarray()"
   ]
  },
  {
   "cell_type": "code",
   "execution_count": null,
   "metadata": {},
   "outputs": [],
   "source": [
    "adata = adata[:, ~np.isnan(adata.X).any(axis=0)]\n"
   ]
  },
  {
   "cell_type": "code",
   "execution_count": null,
   "metadata": {},
   "outputs": [],
   "source": [
    "adata = adata[:,adata.var[\"velocity_genes\"]]"
   ]
  }
 ],
 "metadata": {
  "kernelspec": {
   "display_name": "velovi",
   "language": "python",
   "name": "python3"
  },
  "language_info": {
   "codemirror_mode": {
    "name": "ipython",
    "version": 3
   },
   "file_extension": ".py",
   "mimetype": "text/x-python",
   "name": "python",
   "nbconvert_exporter": "python",
   "pygments_lexer": "ipython3",
   "version": "3.12.3"
  }
 },
 "nbformat": 4,
 "nbformat_minor": 2
}
