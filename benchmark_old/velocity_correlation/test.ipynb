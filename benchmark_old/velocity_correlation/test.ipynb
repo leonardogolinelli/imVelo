{
 "cells": [
  {
   "cell_type": "code",
   "execution_count": 1,
   "metadata": {},
   "outputs": [],
   "source": [
    "import os, pickle\n",
    "\n",
    "\n",
    "with open('cell_wise_correlations.pkl', 'rb') as f:\n",
    "    cell_wise_correlations = pickle.load(f)\n"
   ]
  },
  {
   "cell_type": "code",
   "execution_count": 6,
   "metadata": {},
   "outputs": [
    {
     "data": {
      "text/plain": [
       "array([        nan,  0.10966198, -0.1867114 , ...,         nan,\n",
       "               nan,         nan])"
      ]
     },
     "execution_count": 6,
     "metadata": {},
     "output_type": "execute_result"
    }
   ],
   "source": [
    "cell_wise_correlations[\"forebrain\"][('celldancer', 'scvelo')]"
   ]
  },
  {
   "cell_type": "code",
   "execution_count": 7,
   "metadata": {},
   "outputs": [],
   "source": [
    "import scanpy as sc"
   ]
  },
  {
   "cell_type": "code",
   "execution_count": 12,
   "metadata": {},
   "outputs": [
    {
     "name": "stdout",
     "output_type": "stream",
     "text": [
      "Number of shared genes after filtering: 925\n",
      "Number of shared cells: 3696\n",
      "Gene-wise correlation shape: (3696,)\n",
      "Cell-wise correlation shape: (925,)\n"
     ]
    },
    {
     "ename": "",
     "evalue": "",
     "output_type": "error",
     "traceback": [
      "\u001b[1;31mThe Kernel crashed while executing code in the current cell or a previous cell. \n",
      "\u001b[1;31mPlease review the code in the cell(s) to identify a possible cause of the failure. \n",
      "\u001b[1;31mClick <a href='https://aka.ms/vscodeJupyterKernelCrash'>here</a> for more info. \n",
      "\u001b[1;31mView Jupyter <a href='command:jupyter.viewOutput'>log</a> for further details."
     ]
    }
   ],
   "source": [
    "import scanpy as sc\n",
    "import numpy as np\n",
    "import scvelo as scv\n",
    "\n",
    "# Load the two AnnData objects\n",
    "scvelo = sc.read_h5ad(\"/mnt/data2/home/leonardo/git/multilineage_velocity/benchmark/scvelo/pancreas/scvelo_pancreas.h5ad\")\n",
    "ivelo = sc.read_h5ad(\"/mnt/data2/home/leonardo/git/multilineage_velocity/benchmark/ivelo/pancreas/ivelo_pancreas.h5ad\")\n",
    "\n",
    "# Step 1: Extract the velocity matrices\n",
    "velocity_scvelo = scvelo.layers['velocity']\n",
    "velocity_ivelo = ivelo.layers['velocity']\n",
    "\n",
    "# Step 2: Remove genes with NaN values in each model individually\n",
    "# Keep cells but remove genes that have NaN values in either model\n",
    "nan_mask_scvelo_genes = ~np.isnan(velocity_scvelo).any(axis=0)  # Remove genes with NaNs in scvelo\n",
    "nan_mask_ivelo_genes = ~np.isnan(velocity_ivelo).any(axis=0)  # Remove genes with NaNs in ivelo\n",
    "\n",
    "# Subset the velocity matrices to exclude genes with NaNs\n",
    "velocity_scvelo_filtered = velocity_scvelo[:, nan_mask_scvelo_genes]\n",
    "velocity_ivelo_filtered = velocity_ivelo[:, nan_mask_ivelo_genes]\n",
    "\n",
    "# Update the gene names to reflect the filtered matrices\n",
    "scvelo_genes_filtered = scvelo.var_names[nan_mask_scvelo_genes]\n",
    "ivelo_genes_filtered = ivelo.var_names[nan_mask_ivelo_genes]\n",
    "\n",
    "# Step 3: Find the intersection of the filtered genes\n",
    "shared_genes = scvelo_genes_filtered.intersection(ivelo_genes_filtered)\n",
    "shared_cells = scvelo.obs_names.intersection(ivelo.obs_names)\n",
    "\n",
    "print(f\"Number of shared genes after filtering: {len(shared_genes)}\")\n",
    "print(f\"Number of shared cells: {len(shared_cells)}\")\n",
    "\n",
    "# Step 4: Subset both AnnData objects to the shared genes and cells\n",
    "scvelo_shared = scvelo[shared_cells, shared_genes].copy()\n",
    "ivelo_shared = ivelo[shared_cells, shared_genes].copy()\n",
    "\n",
    "# Extract the filtered velocity matrices for shared genes and cells\n",
    "velocity_scvelo_shared = scvelo_shared.layers['velocity']\n",
    "velocity_ivelo_shared = ivelo_shared.layers['velocity']\n",
    "\n",
    "# Step 5: Compute gene-wise correlations (across shared cells)\n",
    "if velocity_scvelo_shared.shape[1] > 0:  # Ensure there are valid genes remaining\n",
    "    gene_corr = scv.utils.vcorrcoef(velocity_scvelo_shared, velocity_ivelo_shared, axis=1)\n",
    "    print(f\"Gene-wise correlation shape: {gene_corr.shape}\")\n",
    "else:\n",
    "    print(\"No valid genes remain after filtering. Cannot compute gene-wise correlations.\")\n",
    "\n",
    "# Step 6: Compute cell-wise correlations (across shared genes)\n",
    "if velocity_scvelo_shared.shape[0] > 0:  # Ensure there are valid cells remaining\n",
    "    cell_corr = scv.utils.vcorrcoef(velocity_scvelo_shared, velocity_ivelo_shared, axis=0)\n",
    "    print(f\"Cell-wise correlation shape: {cell_corr.shape}\")\n",
    "else:\n",
    "    print(\"No valid cells remain after filtering. Cannot compute cell-wise correlations.\")\n"
   ]
  },
  {
   "cell_type": "code",
   "execution_count": null,
   "metadata": {},
   "outputs": [],
   "source": []
  },
  {
   "cell_type": "code",
   "execution_count": null,
   "metadata": {},
   "outputs": [],
   "source": []
  },
  {
   "cell_type": "code",
   "execution_count": 9,
   "metadata": {},
   "outputs": [
    {
     "data": {
      "text/plain": [
       "AnnData object with n_obs × n_vars = 3696 × 2000\n",
       "    obs: 'clusters_coarse', 'clusters', 'S_score', 'G2M_score', 'initial_size_unspliced', 'initial_size_spliced', 'initial_size', 'n_counts', 'isomap_1', 'isomap_2', 'isomap_3', 'isomap_1+2', 'isomap_1+3', 'isomap_2+3', 'pca_1', 'pca_2', 'pca_3', 'pca_1+2', 'pca_1+3', 'pca_2+3', 'isomap_1_ve', 'isomap_2_ve', 'isomap_3_ve', 'isomap_1_MuMs', 'isomap_2_MuMs', 'isomap_3_MuMs', 'isomap_1_z', 'isomap_2_z', 'isomap_3_z', 'isomap_1_velocity', 'isomap_2_velocity', 'isomap_3_velocity', 'isomap_1_velocity_concat', 'isomap_2_velocity_concat', 'isomap_3_velocity_concat', 'isomap_1_PCA', 'isomap_2_PCA', 'isomap_3_PCA', 'velocity_self_transition', 'velocity_length', 'velocity_confidence', 'velocity_confidence_transition', 'root_cells', 'end_points', 'velocity_pseudotime'\n",
       "    var: 'highly_variable_genes', 'gene_count_corr', 'means', 'dispersions', 'dispersions_norm', 'highly_variable', 'fit_r2', 'fit_alpha', 'fit_beta', 'fit_gamma', 'fit_t_', 'fit_scaling', 'fit_std_u', 'fit_std_s', 'fit_likelihood', 'fit_u0', 'fit_s0', 'fit_pval_steady', 'fit_steady_u', 'fit_steady_s', 'fit_variance', 'fit_alignment_scaling', 'velocity_genes', 'spearmans_score', 'velocity_score'\n",
       "    uns: 'PCA_weights', 'clusters_coarse_colors', 'clusters_colors', 'day_colors', 'distances', 'final_losses_dic', 'indices', 'linear_weights', 'log1p', 'mask', 'neighbors', 'pca', 'rank_velocity_genes', 'recover_dynamics', 'terms', 'velocity_graph', 'velocity_graph_neg', 'velocity_params'\n",
       "    obsm: 'MuMs', 'X_pca', 'X_umap', 'gp_velo', 'gp_velo_u', 'isomap', 'isomap_unique', 'pca', 'pca_unique', 'prediction', 'recons', 've', 'velocity_umap', 'z', 'z_log_var', 'z_mean'\n",
       "    varm: 'I', 'loss'\n",
       "    layers: 'Ms', 'Mu', 'alpha', 'beta', 'counts_spliced', 'counts_unspliced', 'fit_t', 'fit_tau', 'fit_tau_', 'gamma', 'nn', 'np', 'pn', 'pp', 'spliced', 'unspliced', 'velocity', 'velocity_u'\n",
       "    obsp: 'connectivities', 'distances'"
      ]
     },
     "execution_count": 9,
     "metadata": {},
     "output_type": "execute_result"
    }
   ],
   "source": [
    "adata"
   ]
  }
 ],
 "metadata": {
  "kernelspec": {
   "display_name": "DeepTrajectory",
   "language": "python",
   "name": "python3"
  },
  "language_info": {
   "codemirror_mode": {
    "name": "ipython",
    "version": 3
   },
   "file_extension": ".py",
   "mimetype": "text/x-python",
   "name": "python",
   "nbconvert_exporter": "python",
   "pygments_lexer": "ipython3",
   "version": "3.11.7"
  }
 },
 "nbformat": 4,
 "nbformat_minor": 2
}
