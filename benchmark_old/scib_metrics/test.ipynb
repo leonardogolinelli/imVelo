{
 "cells": [
  {
   "cell_type": "code",
   "execution_count": null,
   "metadata": {},
   "outputs": [],
   "source": []
  },
  {
   "cell_type": "code",
   "execution_count": null,
   "metadata": {},
   "outputs": [],
   "source": [
    "import scanpy as sc\n",
    "\n",
    "import scib_metrics.benchmark\n",
    "from scib_metrics.benchmark import Benchmarker\n",
    "\n",
    "from functions import * \n",
    "\n",
    "models = [\"expimap\",\"velovi\", \"velovi_filtered\", \"ivelo\", \"ivelo_filtered\", \"imVelo\"]\n",
    "#models = [ \"ivelo\",\"imVelo\"]\n",
    "datasets = [\"forebrain\", \"pancreas\", \"gastrulation_erythroid\", \"dentategyrus_lamanno_P5\"]\n",
    "cell_type_keys = [\"Clusters\", \"clusters\", \"celltype\", \"clusters\"]\n",
    "\n",
    "\n",
    "metric_names = [\"isolated_labels\",\"nmi_ari_cluster_labels_kmeans\", \"silhouette_label\", \"klisi_knn\"]\n",
    "#metric_names = [\"isolated_labels\",\"nmi_ari_cluster_labels_kmeans\"]\n",
    "\n",
    "\n",
    "for dataset, cell_type_key in zip(datasets, cell_type_keys):\n",
    "    print(f\"processing dataset: {dataset}\")\n",
    "    adata = sc.read_h5ad(f\"adata_latent_{dataset}.h5ad\")\n",
    "    z_names = [f\"{dataset}-{model}\" for model in models]\n",
    "    save_path = f\"{dataset}.png\"\n",
    "\n",
    "    bio_metrics = scib_metrics.benchmark.BioConservation()\n",
    "    batch_metrics = scib_metrics.benchmark.BatchCorrection(\n",
    "        False, False, False, False, False\n",
    "    )\n",
    "    adata.obs[\"batch\"] = 0\n",
    "    bm = Benchmarker(\n",
    "        adata,\n",
    "        batch_key=\"batch\",\n",
    "        label_key=cell_type_key,\n",
    "        embedding_obsm_keys=z_names,\n",
    "        bio_conservation_metrics=bio_metrics,\n",
    "        batch_correction_metrics=batch_metrics,\n",
    "        n_jobs=1\n",
    "    )\n",
    "    bm.benchmark()\n",
    "\n",
    "    df = get_results(bm)\n",
    "    plot_results_table(df,bm, save_path)"
   ]
  },
  {
   "cell_type": "code",
   "execution_count": 17,
   "metadata": {},
   "outputs": [],
   "source": [
    "adata = sc.read_h5ad(\"adata_latent_forebrain.h5ad\")"
   ]
  },
  {
   "cell_type": "code",
   "execution_count": 19,
   "metadata": {},
   "outputs": [
    {
     "name": "stdout",
     "output_type": "stream",
     "text": [
      "['Neuroblast 2', 'Radial Glia 2', 'Radial Glia 1', 'Neuron', 'Immature Neuron 2', 'Immature Neuron 1', 'Neuroblast 1']\n",
      "Categories (7, object): ['Immature Neuron 1', 'Immature Neuron 2', 'Neuroblast 1', 'Neuroblast 2', 'Neuron', 'Radial Glia 1', 'Radial Glia 2']\n"
     ]
    }
   ],
   "source": [
    "print(adata.obs[\"Clusters\"].unique())"
   ]
  },
  {
   "cell_type": "code",
   "execution_count": null,
   "metadata": {},
   "outputs": [],
   "source": [
    "for z_name in z_names:\n",
    "    print(f\"{z_name}: {adata.obsm[z_name].shape}\")"
   ]
  },
  {
   "cell_type": "code",
   "execution_count": null,
   "metadata": {},
   "outputs": [],
   "source": [
    "print(adata.obs[\"batch\"].unique())\n"
   ]
  },
  {
   "cell_type": "code",
   "execution_count": null,
   "metadata": {},
   "outputs": [],
   "source": [
    "adata.obs[cell_type_key]"
   ]
  },
  {
   "cell_type": "code",
   "execution_count": null,
   "metadata": {},
   "outputs": [],
   "source": [
    "print(adata.obs[cell_type_key].unique())"
   ]
  }
 ],
 "metadata": {
  "kernelspec": {
   "display_name": "DeepTrajectory",
   "language": "python",
   "name": "python3"
  },
  "language_info": {
   "codemirror_mode": {
    "name": "ipython",
    "version": 3
   },
   "file_extension": ".py",
   "mimetype": "text/x-python",
   "name": "python",
   "nbconvert_exporter": "python",
   "pygments_lexer": "ipython3",
   "version": "3.11.7"
  }
 },
 "nbformat": 4,
 "nbformat_minor": 2
}
