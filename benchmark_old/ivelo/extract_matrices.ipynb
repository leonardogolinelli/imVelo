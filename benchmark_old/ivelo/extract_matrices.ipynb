{
 "cells": [
  {
   "cell_type": "code",
   "execution_count": null,
   "metadata": {},
   "outputs": [],
   "source": [
    "import scanpy as sc\n",
    "import numpy as np\n",
    "\n",
    "datasets = [\"forebrain\", \"pancreas\", \"gastrulation_erythroid\",  \"dentategyrus_lamanno_P5\"]\n",
    "filtered_str = [\"\", \"_filtered\"]\n",
    "\n",
    "for dataset in datasets:\n",
    "    for filtered in filtered_str:\n",
    "        dataset += filtered\n",
    "        adata = sc.read_h5ad(f\"{dataset}/ivelo_{dataset}{filtered}.h5ad\")\n",
    "        velocity_u = adata.layers[\"velocity_u\"]\n",
    "        velocity = adata.layers[\"velocity\"]\n",
    "        z = adata.obsm[\"z\"]\n",
    "\n",
    "        np.save(f\"{dataset}/velocity_u.npy\", velocity_u)\n",
    "        np.save(f\"{dataset}/velocity.npy\", velocity)\n",
    "        np.save(f\"{dataset}/z.npy\", z)\n"
   ]
  }
 ],
 "metadata": {
  "language_info": {
   "name": "python"
  }
 },
 "nbformat": 4,
 "nbformat_minor": 2
}
