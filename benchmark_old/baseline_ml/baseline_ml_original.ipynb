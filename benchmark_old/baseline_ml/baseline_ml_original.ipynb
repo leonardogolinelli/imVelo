{
 "cells": [
  {
   "cell_type": "code",
   "execution_count": null,
   "metadata": {},
   "outputs": [],
   "source": [
    "import scanpy as sc\n",
    "import scvelo as scv\n",
    "import numpy as np"
   ]
  },
  {
   "cell_type": "code",
   "execution_count": null,
   "metadata": {},
   "outputs": [],
   "source": [
    "adata = sc.read_h5ad(\"../../outputs/pancreas/K11-1024-1encoderlr-2000epochs - best/adata/adata.h5ad\")"
   ]
  },
  {
   "cell_type": "code",
   "execution_count": null,
   "metadata": {},
   "outputs": [],
   "source": [
    "ductal_cells = np.where(adata.obs[\"clusters\"] == \"Ductal\")\n",
    "deviation_u = np.log((((adata.layers[\"Mu\"] - adata.layers[\"Mu\"][ductal_cells].mean(0)))**2).sum(1))\n",
    "deviation_s = np.log((((adata.layers[\"Ms\"] - adata.layers[\"Ms\"][ductal_cells].mean(0)))**2).sum(1))\n",
    "total_deviation = deviation_s + deviation_u\n",
    "min_val = np.min(total_deviation)\n",
    "max_val = np.max(total_deviation)\n",
    "\n",
    "adata.obs[\"total_deviation\"] = (total_deviation - min_val) / (max_val - min_val)\n",
    "sc.pl.umap(adata, color=\"total_deviation\", color_map=\"gnuplot\")"
   ]
  },
  {
   "cell_type": "code",
   "execution_count": null,
   "metadata": {},
   "outputs": [],
   "source": [
    "import numpy as np\n",
    "\n",
    "def least_squares_slope(time_vector, quantity_vector):\n",
    "    \"\"\"\n",
    "    Computes the slope of the least squares line for the given time and quantity vectors.\n",
    "    \n",
    "    Parameters:\n",
    "    time_vector (numpy.ndarray): The input time vector.\n",
    "    quantity_vector (numpy.ndarray): The input quantity vector.\n",
    "    \n",
    "    Returns:\n",
    "    float: The slope of the least squares line.\n",
    "    \"\"\"\n",
    "    n = len(time_vector)\n",
    "    sum_x = np.sum(time_vector)\n",
    "    sum_y = np.sum(quantity_vector)\n",
    "    sum_xy = np.sum(time_vector * quantity_vector)\n",
    "    sum_x_squared = np.sum(time_vector ** 2)\n",
    "    \n",
    "    numerator = n * sum_xy - sum_x * sum_y\n",
    "    denominator = n * sum_x_squared - sum_x ** 2\n",
    "    \n",
    "    if denominator == 0:\n",
    "        raise ValueError(\"Denominator is zero, cannot compute slope.\")\n",
    "    \n",
    "    slope = numerator / denominator\n",
    "    return slope"
   ]
  },
  {
   "cell_type": "code",
   "execution_count": null,
   "metadata": {},
   "outputs": [],
   "source": [
    "manifold = sc.read_h5ad(\"../../../dim_reduction/pancreas_nosmooth.h5ad\")\n",
    "adata.obs[\"z5_pseudotime\"] = manifold.obs[\"z5_pseudotime\"].copy()\n",
    "adata.obs[\"z3_pseudotime\"] = manifold.obs[\"z3_pseudotime\"].copy()"
   ]
  },
  {
   "cell_type": "code",
   "execution_count": null,
   "metadata": {},
   "outputs": [],
   "source": [
    "import pandas as pd\n",
    "adata.layers[\"slope_u\"] = np.zeros(adata.shape)\n",
    "adata.layers[\"slope_s\"] = np.zeros(adata.shape)\n",
    "for ctype in pd.unique(adata.obs[\"clusters\"]):\n",
    "    print(f\"computing slopes for ctype: {ctype}..\")\n",
    "    ctype_obs = np.where(adata.obs[\"clusters\"] == ctype)[0]\n",
    "    for i,gene in enumerate(list(adata.var_names)):\n",
    "        Mu = adata.layers[\"Mu\"]\n",
    "        Ms = adata.layers[\"Ms\"]\n",
    "        quantity_vector_u = Mu[ctype_obs,i]\n",
    "        quantity_vector_s = Ms[ctype_obs,i]\n",
    "        time_vector = adata.obs[\"z5_pseudotime\"][ctype_obs]\n",
    "        slope_u = least_squares_slope(time_vector, quantity_vector_u)\n",
    "        slope_s = least_squares_slope(time_vector, quantity_vector_s)\n",
    "        adata.layers[\"slope_u\"][ctype_obs, i] = slope_u\n",
    "        adata.layers[\"slope_s\"][ctype_obs, i] = slope_s\n",
    "\n",
    "        if f\"slope_{gene}_u\" not in adata.obs:\n",
    "            adata.obs[f\"slope_{gene}_u\"] = 0\n",
    "        if f\"slope_{gene}_s\" not in adata.obs:\n",
    "            adata.obs[f\"slope_{gene}_s\"] = 0\n",
    "\n",
    "        adata.obs[f\"slope_{gene}_u\"][ctype_obs] = slope_u\n",
    "        adata.obs[f\"slope_{gene}_s\"][ctype_obs] = slope_s"
   ]
  },
  {
   "cell_type": "code",
   "execution_count": null,
   "metadata": {},
   "outputs": [],
   "source": [
    "sc.pl.umap(adata, color=\"z5_pseudotime\")"
   ]
  },
  {
   "cell_type": "code",
   "execution_count": null,
   "metadata": {},
   "outputs": [],
   "source": [
    "sc.pp.neighbors(adata)\n",
    "scv.tl.velocity_graph(adata, vkey=\"slope_s\")\n",
    "scv.tl.velocity_confidence(adata, vkey=\"slope_s\")\n",
    "scv.tl.velocity_pseudotime(adata, vkey=\"slope_s\")\n",
    "scv.pl.velocity_embedding_stream(adata, vkey=\"slope_s\")\n",
    "keys = [\"velocity_confidence\", \"velocity_length\"]\n",
    "sc.pl.umap(adata, color=keys, color_map=\"coolwarm\")\n",
    "sc.pl.umap(adata, color=\"velocity_pseudotime\", color_map=\"gnuplot\")"
   ]
  },
  {
   "cell_type": "code",
   "execution_count": null,
   "metadata": {},
   "outputs": [],
   "source": [
    "import matplotlib.pyplot as plt\n",
    "def plot_phase_plane(adata, gene_name, dataset, K, u_scale=.01, s_scale=0.01, alpha=0.5, head_width=0.02, head_length=0.03, length_includes_head=False, log=False,\n",
    "                        norm_velocity=True, filter_cells=False, smooth_expr=True, show_plot=True, save_plot=True, save_path=\".\",\n",
    "                        cell_type_key=\"clusters\", vkey=\"velocity\", vkey_u=\"velocity_u\"):\n",
    "\n",
    "    if smooth_expr:\n",
    "        unspliced_expression = adata.layers[\"Mu\"][:, adata.var_names.get_loc(gene_name)].flatten() \n",
    "        spliced_expression = adata.layers[\"Ms\"][:, adata.var_names.get_loc(gene_name)].flatten() \n",
    "    else:\n",
    "        unspliced_expression = adata.layers[\"unspliced\"][:, adata.var_names.get_loc(gene_name)].flatten()\n",
    "        spliced_expression = adata.layers[\"spliced\"][:, adata.var_names.get_loc(gene_name)].flatten()\n",
    "\n",
    "    # Normalize the expression data\n",
    "    unspliced_expression_min, unspliced_expression_max = np.min(unspliced_expression), np.max(unspliced_expression)\n",
    "    spliced_expression_min, spliced_expression_max = np.min(spliced_expression), np.max(spliced_expression)\n",
    "\n",
    "    # Min-Max normalization\n",
    "    unspliced_expression = (unspliced_expression - unspliced_expression_min) / (unspliced_expression_max - unspliced_expression_min)\n",
    "    spliced_expression = (spliced_expression - spliced_expression_min) / (spliced_expression_max - spliced_expression_min)\n",
    "\n",
    "    # Extract the velocity data\n",
    "    unspliced_velocity = adata.layers[f'{vkey_u}'][:, adata.var_names.get_loc(gene_name)].flatten()\n",
    "    spliced_velocity = adata.layers[f'{vkey}'][:, adata.var_names.get_loc(gene_name)].flatten()\n",
    "\n",
    "    def custom_scale(data):\n",
    "        max_abs_value = np.max(np.abs(data))  # Find the maximum absolute value\n",
    "        scaled_data = data / max_abs_value  # Scale by the maximum absolute value\n",
    "        return scaled_data\n",
    "\n",
    "    if norm_velocity:\n",
    "        unspliced_velocity = custom_scale(unspliced_velocity)\n",
    "        spliced_velocity = custom_scale(spliced_velocity)\n",
    "\n",
    "\n",
    "    # Apply any desired transformations (e.g., log) here\n",
    "    if log:\n",
    "        # Apply log transformation safely, ensuring no log(0)\n",
    "        unspliced_velocity = np.log1p(unspliced_velocity)\n",
    "        spliced_velocity = np.log1p(spliced_velocity)\n",
    "\n",
    "    # Generate boolean masks for conditions and apply them\n",
    "    if filter_cells:\n",
    "        valid_idx = (unspliced_expression > 0) & (spliced_expression > 0)\n",
    "    else:\n",
    "        valid_idx = (unspliced_expression >= 0) & (spliced_expression >= 0)\n",
    "\n",
    "    # Filter data based on valid_idx\n",
    "    unspliced_expression_filtered = unspliced_expression[valid_idx]\n",
    "    spliced_expression_filtered = spliced_expression[valid_idx]\n",
    "    unspliced_velocity_filtered = unspliced_velocity[valid_idx]\n",
    "    spliced_velocity_filtered = spliced_velocity[valid_idx]\n",
    "\n",
    "    # Also filter cell type information to match the filtered expressions\n",
    "    # First, get unique cell types and their corresponding colors\n",
    "    unique_cell_types = adata.obs[cell_type_key].cat.categories\n",
    "    celltype_colors = adata.uns[f\"{cell_type_key}_colors\"]\n",
    "    \n",
    "    # Create a mapping of cell type to its color\n",
    "    celltype_to_color = dict(zip(unique_cell_types, celltype_colors))\n",
    "\n",
    "    # Filter cell types from the data to get a list of colors for the filtered data points\n",
    "    cell_types_filtered = adata.obs[cell_type_key][valid_idx]\n",
    "    colors = cell_types_filtered.map(celltype_to_color).to_numpy()\n",
    "    plt.figure(figsize=(9, 6.5), dpi=100)\n",
    "  # Lower dpi here if the file is still too large    scatter = plt.scatter(unspliced_expression_filtered, spliced_expression_filtered, c=colors, alpha=0.6)\n",
    "\n",
    "    \"\"\"# Plot velocity vectors\n",
    "    for i in range(len(unspliced_expression_filtered)):\n",
    "        cell_type_index = np.where(unique_cell_types == cell_types_filtered[i])[0][0]\n",
    "        arrow_color = celltype_to_color[cell_types_filtered[i]]  # Use the color corresponding to the cell type\n",
    "        plt.arrow(\n",
    "            unspliced_expression_filtered[i], spliced_expression_filtered[i], \n",
    "            unspliced_velocity_filtered[i] * u_scale, spliced_velocity_filtered[i] * s_scale, \n",
    "            color=arrow_color, alpha=alpha, head_width=head_width, head_length=head_length, length_includes_head=length_includes_head\n",
    "        )\"\"\"\n",
    "\n",
    "    # Plot velocity vectors\n",
    "    for i in range(len(unspliced_expression_filtered)):\n",
    "        cell_type_index = np.where(unique_cell_types == cell_types_filtered[i])[0][0]\n",
    "        arrow_color = celltype_to_color[cell_types_filtered[i]]  # Use the color corresponding to the cell type\n",
    "        plt.arrow(\n",
    "            spliced_expression_filtered[i], unspliced_expression_filtered[i], \n",
    "            spliced_velocity_filtered[i] * s_scale, unspliced_velocity_filtered[i] * u_scale, \n",
    "            color=arrow_color, alpha=alpha, head_width=head_width, head_length=head_length, length_includes_head=length_includes_head\n",
    "        )\n",
    "\n",
    "    plt.ylabel(f'Normalized Unspliced Expression of {gene_name}')\n",
    "    plt.xlabel(f'Normalized Spliced Expression of {gene_name}')\n",
    "    plt.title(f'Expression and Velocity of {gene_name} by Cell Type')\n",
    "\n",
    "    # Create a legend\n",
    "    patches = [plt.Line2D([0], [0], marker='o', color='w', markerfacecolor=celltype_to_color[celltype], markersize=10, label=celltype) \n",
    "            for celltype in unique_cell_types]\n",
    "    plt.legend(handles=patches, title=\"Cell Type\", bbox_to_anchor=(1.05, 1), loc='upper left')\n",
    "\n",
    "    \n",
    "    plt.show()"
   ]
  },
  {
   "cell_type": "code",
   "execution_count": null,
   "metadata": {},
   "outputs": [],
   "source": [
    "plot_phase_plane(adata, \"Foxo3\", \"pancreas\", 10, vkey=\"velocity\", vkey_u=\"velocity_u\")\n",
    "plot_phase_plane(adata, \"Foxo3\", \"pancreas\", 10, vkey=\"slope_s\", vkey_u=\"slope_u\")"
   ]
  },
  {
   "cell_type": "code",
   "execution_count": null,
   "metadata": {},
   "outputs": [],
   "source": [
    "sc.pl.violin(adata, \"Abcc8\", groupby=\"clusters\")"
   ]
  },
  {
   "cell_type": "code",
   "execution_count": null,
   "metadata": {},
   "outputs": [],
   "source": [
    "sc.pl.scatter(adata, x=\"z5_pseudotime\", y=\"Abcc8\", color=\"clusters\")"
   ]
  }
 ],
 "metadata": {
  "kernelspec": {
   "display_name": "DeepTrajectory",
   "language": "python",
   "name": "python3"
  },
  "language_info": {
   "codemirror_mode": {
    "name": "ipython",
    "version": 3
   },
   "file_extension": ".py",
   "mimetype": "text/x-python",
   "name": "python",
   "nbconvert_exporter": "python",
   "pygments_lexer": "ipython3",
   "version": "3.1.-1"
  }
 },
 "nbformat": 4,
 "nbformat_minor": 2
}
