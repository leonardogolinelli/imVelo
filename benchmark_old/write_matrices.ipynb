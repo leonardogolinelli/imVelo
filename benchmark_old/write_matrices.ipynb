{
 "cells": [
  {
   "cell_type": "code",
   "execution_count": 1,
   "metadata": {},
   "outputs": [],
   "source": [
    "import scanpy as sc\n",
    "import numpy as np\n",
    "import os"
   ]
  },
  {
   "cell_type": "markdown",
   "metadata": {},
   "source": [
    "# Cell Dancer"
   ]
  },
  {
   "cell_type": "code",
   "execution_count": null,
   "metadata": {},
   "outputs": [],
   "source": [
    "datasets = [\"forebrain\", \"pancreas\", \"gastrulation_erythroid\",  \"dentategyrus_lamanno_P5\"]\n",
    "\n",
    "for dataset in datasets:\n",
    "    print(f\"processing dataset: {dataset}\")\n",
    "    adata = sc.read_h5ad(f\"/mnt/data2/home/leonardo/git/multilineage_velocity/benchmark/celldancer/{dataset}/cd_{dataset}_final.h5ad\")\n",
    "    velocity_u = adata.layers[\"velocity_u\"]\n",
    "    velocity = adata.layers[\"velocity\"]\n",
    "    np.save(f\"/mnt/data2/home/leonardo/git/multilineage_velocity/benchmark/celldancer/{dataset}/velocity_u.npy\",velocity_u)\n",
    "    np.save(f\"/mnt/data2/home/leonardo/git/multilineage_velocity/benchmark/celldancer/{dataset}/velocity.npy\",velocity)"
   ]
  },
  {
   "cell_type": "markdown",
   "metadata": {},
   "source": [
    "# Scvelo"
   ]
  },
  {
   "cell_type": "code",
   "execution_count": null,
   "metadata": {},
   "outputs": [],
   "source": [
    "datasets = [\"forebrain\", \"pancreas\", \"gastrulation_erythroid\",  \"dentategyrus_lamanno_P5\"]\n",
    "\n",
    "for dataset in datasets:\n",
    "    print(f\"processing dataset: {dataset}\")\n",
    "    adata = sc.read_h5ad(f\"/mnt/data2/home/leonardo/git/multilineage_velocity/benchmark/scvelo/{dataset}/scvelo_{dataset}.h5ad\")\n",
    "    velocity_u = adata.layers[\"velocity_u\"]\n",
    "    velocity = adata.layers[\"velocity\"]\n",
    "    np.save(f\"/mnt/data2/home/leonardo/git/multilineage_velocity/benchmark/scvelo/{dataset}/velocity_u.npy\",velocity_u)\n",
    "    np.save(f\"/mnt/data2/home/leonardo/git/multilineage_velocity/benchmark/scvelo/{dataset}/velocity.npy\",velocity)"
   ]
  },
  {
   "cell_type": "markdown",
   "metadata": {},
   "source": [
    "# Stochastic"
   ]
  },
  {
   "cell_type": "code",
   "execution_count": null,
   "metadata": {},
   "outputs": [],
   "source": [
    "datasets = [\"forebrain\", \"pancreas\", \"gastrulation_erythroid\",  \"dentategyrus_lamanno_P5\"]\n",
    "\n",
    "for dataset in datasets:\n",
    "    print(f\"processing dataset: {dataset}\")\n",
    "    adata = sc.read_h5ad(f\"/mnt/data2/home/leonardo/git/multilineage_velocity/benchmark/stochastic/{dataset}/stochastic_{dataset}.h5ad\")\n",
    "    #velocity_u = adata.layers[\"velocity_u\"]\n",
    "    velocity = adata.layers[\"velocity\"]\n",
    "    #np.save(f\"/mnt/data2/home/leonardo/git/multilineage_velocity/benchmark/stochastic/{dataset}/velocity_u.npy\",velocity_u)\n",
    "    np.save(f\"/mnt/data2/home/leonardo/git/multilineage_velocity/benchmark/stochastic/{dataset}/velocity.npy\",velocity)"
   ]
  },
  {
   "cell_type": "markdown",
   "metadata": {},
   "source": [
    "# iVelo"
   ]
  },
  {
   "cell_type": "code",
   "execution_count": 5,
   "metadata": {},
   "outputs": [
    {
     "name": "stdout",
     "output_type": "stream",
     "text": [
      "processing dataset: forebrain\n",
      "processing dataset: pancreas\n",
      "processing dataset: dentategyrus_lamanno_P5\n"
     ]
    }
   ],
   "source": [
    "datasets = [\"forebrain\", \"pancreas\", \"dentategyrus_lamanno_P5\"]\n",
    "\n",
    "for dataset in datasets:\n",
    "    print(f\"processing dataset: {dataset}\")\n",
    "    adata = sc.read_h5ad(f\"/mnt/data2/home/leonardo/git/ivelo/ivelo/outputs/{dataset}_filtered/ivelo_{dataset}_filtered.h5ad\")\n",
    "    velocity_u = adata.layers[\"velocity_u\"]\n",
    "    velocity = adata.layers[\"velocity\"]\n",
    "    z = adata.obsm[\"z\"]\n",
    "    os.makedirs(f\"/mnt/data2/home/leonardo/git/multilineage_velocity/benchmark/ivelo/{dataset}_filtered\", exist_ok=True)\n",
    "    np.save(f\"/mnt/data2/home/leonardo/git/multilineage_velocity/benchmark/ivelo/{dataset}_filtered/velocity_u.npy\",velocity_u)\n",
    "    np.save(f\"/mnt/data2/home/leonardo/git/multilineage_velocity/benchmark/ivelo/{dataset}_filtered/velocity.npy\",velocity)\n",
    "    np.save(f\"/mnt/data2/home/leonardo/git/multilineage_velocity/benchmark/ivelo/{dataset}_filtered/z.npy\",z)"
   ]
  },
  {
   "cell_type": "markdown",
   "metadata": {},
   "source": [
    "# VeloVI"
   ]
  },
  {
   "cell_type": "code",
   "execution_count": null,
   "metadata": {},
   "outputs": [],
   "source": [
    "datasets = [\"forebrain\", \"pancreas\", \"gastrulation_erythroid\",  \"dentategyrus_lamanno_P5\"]\n",
    "\n",
    "for dataset in datasets:\n",
    "    print(f\"processing dataset: {dataset}\")\n",
    "    adata = sc.read_h5ad(f\"/mnt/data2/home/leonardo/git/multilineage_velocity/benchmark/velovi/{dataset}_filtered/velovi_{dataset}_filtered.h5ad\")\n",
    "    velocity_u = adata.layers[\"velocity_u\"]\n",
    "    velocity = adata.layers[\"velocity\"]\n",
    "    z = adata.obsm[\"z\"]\n",
    "    np.save(f\"/mnt/data2/home/leonardo/git/multilineage_velocity/benchmark/velovi/{dataset}_filtered/velocity_u.npy\",velocity_u)\n",
    "    np.save(f\"/mnt/data2/home/leonardo/git/multilineage_velocity/benchmark/velovi/{dataset}_filtered/velocity.npy\",velocity)\n",
    "    np.save(f\"/mnt/data2/home/leonardo/git/multilineage_velocity/benchmark/velovi/{dataset}_filtered/z.npy\",z)"
   ]
  },
  {
   "cell_type": "code",
   "execution_count": null,
   "metadata": {},
   "outputs": [],
   "source": [
    "velocity_u = adata.layers[\"velocity_u\"]\n",
    "velocity = adata.layers[\"velocity\"]\n",
    "z = adata.obsm[\"z\"]\n",
    "\n",
    "os.makedirs(\"outputs\", exist_ok=True)\n",
    "\n",
    "np.save(\"outputs/velocity_u.npy\", velocity_u)\n",
    "np.save(\"outputs/velocity.npy\", velocity)\n",
    "np.save(\"outputs/z.npy\", z)"
   ]
  }
 ],
 "metadata": {
  "kernelspec": {
   "display_name": "DeepTrajectory",
   "language": "python",
   "name": "python3"
  },
  "language_info": {
   "codemirror_mode": {
    "name": "ipython",
    "version": 3
   },
   "file_extension": ".py",
   "mimetype": "text/x-python",
   "name": "python",
   "nbconvert_exporter": "python",
   "pygments_lexer": "ipython3",
   "version": "3.11.7"
  }
 },
 "nbformat": 4,
 "nbformat_minor": 2
}
