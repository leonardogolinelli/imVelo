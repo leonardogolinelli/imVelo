{
 "cells": [
  {
   "cell_type": "code",
   "execution_count": 1,
   "metadata": {},
   "outputs": [],
   "source": [
    "import numpy as np\n",
    "import pandas as pd\n",
    "import scvelo as scv\n",
    "import scanpy as sc\n",
    "from scvelo_adapted_utils import load_files\n",
    "from scvelo_adapted_metrics import compute_scvelo_metrics"
   ]
  },
  {
   "cell_type": "code",
   "execution_count": null,
   "metadata": {},
   "outputs": [],
   "source": [
    "adata_mivelo, model = load_files(\"pancreas\", 30)\n",
    "gnames = list(adata_mivelo.var_names)\n",
    "adata = scv.datasets.pancreas()\n",
    "adata = adata[:,gnames] #only keep gnames present in adata\n",
    "scv.pp.filter_and_normalize(adata, min_shared_counts=20)\n",
    "sc.pp.neighbors(adata)\n",
    "scv.pp.moments(adata, n_pcs=30, n_neighbors=30)\n",
    "#sc.tl.umap(adata)\n",
    "sc.pl.umap(adata, color=\"clusters\")\n",
    "scv.tl.recover_dynamics(adata, n_jobs=4)\n",
    "scv.tl.velocity(adata, mode=\"dynamical\")\n",
    "adata.write_h5ad(\"scvelo.h5ad\")\n",
    "compute_scvelo_metrics(adata, \"pancreas\", False, \"clusters\")\n",
    "adata.write_h5ad(\"scvelo.h5ad\")\n"
   ]
  },
  {
   "cell_type": "code",
   "execution_count": null,
   "metadata": {},
   "outputs": [],
   "source": [
    "\"\"\"adata = sc.read_h5ad(\"scvelo.h5ad\")\n",
    "adata_sub = adata[:, adata.var[\"velocity_genes\"]].copy()\n",
    "miVelo_velocity = adata_mivelo[:,adata_sub.var_names].layers[\"velocity\"]\n",
    "scVelo_velocity = adata_sub.layers[\"velocity\"]\n",
    "corr = scv.utils.vcorrcoef(miVelo_velocity, scVelo_velocity, mode='pearsons', axis=- 1)\"\"\""
   ]
  }
 ],
 "metadata": {
  "kernelspec": {
   "display_name": "DeepTrajectory",
   "language": "python",
   "name": "python3"
  },
  "language_info": {
   "codemirror_mode": {
    "name": "ipython",
    "version": 3
   },
   "file_extension": ".py",
   "mimetype": "text/x-python",
   "name": "python",
   "nbconvert_exporter": "python",
   "pygments_lexer": "ipython3",
   "version": "3.12.3"
  }
 },
 "nbformat": 4,
 "nbformat_minor": 2
}
