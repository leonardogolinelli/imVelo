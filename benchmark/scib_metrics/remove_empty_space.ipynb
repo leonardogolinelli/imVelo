{
 "cells": [
  {
   "cell_type": "code",
   "execution_count": 5,
   "metadata": {},
   "outputs": [],
   "source": [
    "import cv2\n",
    "import numpy as np\n",
    "\n",
    "# List of datasets\n",
    "datasets = [\"forebrain\", \"pancreas\", \"gastrulation_erythroid\", \"dentategyrus_lamanno_P5\"]\n",
    "\n",
    "# Define the border size (adjusted for image resolution, 1 mm equivalent in pixels)\n",
    "border_size = 10  # Adjust based on image resolution\n",
    "\n",
    "for dataset in datasets:\n",
    "    file_path = f\"/mnt/data2/home/leonardo/git/imVelo/benchmark/scib_metrics/bio_conservation_plots_unfiltered/{dataset}_bio_conservation.png\"\n",
    "    new_path = f\"/mnt/data2/home/leonardo/git/imVelo/benchmark/scib_metrics/bio_conservation_plots_unfiltered/cropped_{dataset}_bio_conservation.png\"\n",
    "\n",
    "    image = cv2.imread(file_path)\n",
    "\n",
    "    # Convert to grayscale\n",
    "    gray = cv2.cvtColor(image, cv2.COLOR_BGR2GRAY)\n",
    "\n",
    "    # Apply adaptive thresholding to better capture borders\n",
    "    binary = cv2.adaptiveThreshold(gray, 255, cv2.ADAPTIVE_THRESH_GAUSSIAN_C, \n",
    "                                   cv2.THRESH_BINARY_INV, 11, 2)\n",
    "\n",
    "    # Find contours and get the bounding box of the main content\n",
    "    contours, _ = cv2.findContours(binary, cv2.RETR_EXTERNAL, cv2.CHAIN_APPROX_SIMPLE)\n",
    "\n",
    "    # Only proceed if contours were found\n",
    "    if contours:\n",
    "        # Find the bounding box covering all contours\n",
    "        x, y, w, h = cv2.boundingRect(np.concatenate(contours))\n",
    "        cropped_image = image[y:y+h, x:x+w]\n",
    "\n",
    "        # Add a white border of specified size around the cropped image\n",
    "        bordered_image = cv2.copyMakeBorder(cropped_image, border_size, border_size, \n",
    "                                            border_size, border_size, \n",
    "                                            cv2.BORDER_CONSTANT, value=[255, 255, 255])\n",
    "\n",
    "        # Save the bordered image\n",
    "        cv2.imwrite(new_path, bordered_image)\n",
    "    else:\n",
    "        print(f\"No content found in the image for dataset: {dataset}\")\n"
   ]
  }
 ],
 "metadata": {
  "kernelspec": {
   "display_name": "DeepTrajectory",
   "language": "python",
   "name": "python3"
  },
  "language_info": {
   "codemirror_mode": {
    "name": "ipython",
    "version": 3
   },
   "file_extension": ".py",
   "mimetype": "text/x-python",
   "name": "python",
   "nbconvert_exporter": "python",
   "pygments_lexer": "ipython3",
   "version": "3.11.7"
  }
 },
 "nbformat": 4,
 "nbformat_minor": 2
}
