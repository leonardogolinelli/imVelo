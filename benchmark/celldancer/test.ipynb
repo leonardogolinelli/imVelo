{
 "cells": [
  {
   "cell_type": "code",
   "execution_count": null,
   "metadata": {},
   "outputs": [],
   "source": [
    "import scanpy as sc\n",
    "import scvelo as scv"
   ]
  },
  {
   "cell_type": "code",
   "execution_count": null,
   "metadata": {},
   "outputs": [],
   "source": [
    "adata = sc.read_h5ad(\"dentategyrus_lamanno/cd_dentategyrus_lamanno.h5ad\")\n",
    "adata"
   ]
  },
  {
   "cell_type": "code",
   "execution_count": null,
   "metadata": {},
   "outputs": [],
   "source": [
    "scv.tl.velocity_graph(adata)"
   ]
  },
  {
   "cell_type": "code",
   "execution_count": null,
   "metadata": {},
   "outputs": [],
   "source": [
    "import pandas as pd\n",
    "import scanpy as sc\n",
    "import celldancer as cd\n",
    "import celldancer.utilities as cdutil\n",
    "#os.path.expanduser(f\"~/top_adatas/mivelo_{dataset}.h5ad\")\n",
    "path = \"dentategyrus_lamanno/cd_df.csv\"\n",
    "#path = \"forebrain/cd_forebrain.h5ad\"\n",
    "\n",
    "\"\"\"adata = sc.read_h5ad(path)\n",
    "\n",
    "adata = adata[:,:5].copy()\n",
    "df = cdutil.adata_to_df_with_embed(adata,\n",
    "                                us_para=['Mu','Ms'],\n",
    "                                cell_type_para=\"Clusters\",\n",
    "                                embed_para='X_umap')\"\"\"\n",
    "\n",
    "df = pd.read_csv(path)\n",
    "df"
   ]
  },
  {
   "cell_type": "code",
   "execution_count": null,
   "metadata": {},
   "outputs": [],
   "source": [
    "df[\"cellIndex\"] = df.cellID"
   ]
  },
  {
   "cell_type": "code",
   "execution_count": null,
   "metadata": {},
   "outputs": [],
   "source": [
    "df.cellIndex"
   ]
  },
  {
   "cell_type": "code",
   "execution_count": null,
   "metadata": {},
   "outputs": [],
   "source": [
    "import os \n",
    "path = os.path.expanduser(\"~/top_adatas/mivelo_dentategyrus_lamanno.h5ad\")\n",
    "adata2= sc.read_h5ad(path)\n",
    "adata2 = adata2[:,:5].copy()\n",
    "df = cdutil.adata_to_df_with_embed(adata2,\n",
    "                                us_para=['Mu','Ms'],\n",
    "                                cell_type_para=\"clusters\",\n",
    "                                embed_para='X_umap')\n",
    "df"
   ]
  }
 ],
 "metadata": {
  "kernelspec": {
   "display_name": "DeepTrajectory",
   "language": "python",
   "name": "python3"
  },
  "language_info": {
   "codemirror_mode": {
    "name": "ipython",
    "version": 3
   },
   "file_extension": ".py",
   "mimetype": "text/x-python",
   "name": "python",
   "nbconvert_exporter": "python",
   "pygments_lexer": "ipython3",
   "version": "3.1.undefined"
  }
 },
 "nbformat": 4,
 "nbformat_minor": 2
}
