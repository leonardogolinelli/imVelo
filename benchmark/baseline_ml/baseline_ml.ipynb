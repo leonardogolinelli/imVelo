{
 "cells": [
  {
   "cell_type": "code",
   "execution_count": 1,
   "metadata": {},
   "outputs": [],
   "source": [
    "import scanpy as sc\n",
    "import scvelo as scv\n",
    "import numpy as np"
   ]
  },
  {
   "cell_type": "code",
   "execution_count": 2,
   "metadata": {},
   "outputs": [],
   "source": [
    "adata = sc.read_h5ad(\"../../outputs/final_anndatas/pancreas/miVelo.h5ad\")"
   ]
  },
  {
   "cell_type": "code",
   "execution_count": 3,
   "metadata": {},
   "outputs": [],
   "source": [
    "import numpy as np\n",
    "\n",
    "def least_squares_slope(time_vector, quantity_vector):\n",
    "    \"\"\"\n",
    "    Computes the slope of the least squares line for the given time and quantity vectors.\n",
    "    \n",
    "    Parameters:\n",
    "    time_vector (numpy.ndarray): The input time vector.\n",
    "    quantity_vector (numpy.ndarray): The input quantity vector.\n",
    "    \n",
    "    Returns:\n",
    "    float: The slope of the least squares line.\n",
    "    \"\"\"\n",
    "    n = len(time_vector)\n",
    "    sum_x = np.sum(time_vector)\n",
    "    sum_y = np.sum(quantity_vector)\n",
    "    sum_xy = np.sum(time_vector * quantity_vector)\n",
    "    sum_x_squared = np.sum(time_vector ** 2)\n",
    "    \n",
    "    numerator = n * sum_xy - sum_x * sum_y\n",
    "    denominator = n * sum_x_squared - sum_x ** 2\n",
    "    \n",
    "    if denominator == 0:\n",
    "        raise ValueError(\"Denominator is zero, cannot compute slope.\")\n",
    "    \n",
    "    slope = numerator / denominator\n",
    "    return slope"
   ]
  },
  {
   "cell_type": "code",
   "execution_count": 4,
   "metadata": {},
   "outputs": [],
   "source": [
    "manifold = sc.read_h5ad(\"../../outputs/final_anndatas/pancreas/manifold.h5ad\")\n",
    "adata.obs[\"z5_pseudotime\"] = manifold.obs[\"z5_pseudotime\"].copy()"
   ]
  },
  {
   "cell_type": "code",
   "execution_count": 5,
   "metadata": {},
   "outputs": [
    {
     "name": "stdout",
     "output_type": "stream",
     "text": [
      "computing slopes for ctype: Pre-endocrine..\n",
      "computing slopes for ctype: Ductal..\n",
      "computing slopes for ctype: Alpha..\n",
      "computing slopes for ctype: Ngn3 high EP..\n",
      "computing slopes for ctype: Delta..\n",
      "computing slopes for ctype: Beta..\n",
      "computing slopes for ctype: Ngn3 low EP..\n",
      "computing slopes for ctype: Epsilon..\n"
     ]
    }
   ],
   "source": [
    "import pandas as pd\n",
    "adata.layers[\"slope_u\"] = np.zeros(adata.shape)\n",
    "adata.layers[\"slope_s\"] = np.zeros(adata.shape)\n",
    "for ctype in pd.unique(adata.obs[\"clusters\"]):\n",
    "    print(f\"computing slopes for ctype: {ctype}..\")\n",
    "    ctype_obs = np.where(adata.obs[\"clusters\"] == ctype)[0]\n",
    "    for i,gene in enumerate(list(adata.var_names)):\n",
    "        Mu = adata.layers[\"Mu\"]\n",
    "        Ms = adata.layers[\"Ms\"]\n",
    "        quantity_vector_u = Mu[ctype_obs,i]\n",
    "        quantity_vector_s = Ms[ctype_obs,i]\n",
    "        time_vector = adata.obs[\"z5_pseudotime\"][ctype_obs]\n",
    "        slope_u = least_squares_slope(time_vector, quantity_vector_u)\n",
    "        slope_s = least_squares_slope(time_vector, quantity_vector_s)\n",
    "        adata.layers[\"velocity_u\"][ctype_obs, i] = slope_u\n",
    "        adata.layers[\"velocity\"][ctype_obs, i] = slope_s"
   ]
  },
  {
   "cell_type": "code",
   "execution_count": 6,
   "metadata": {},
   "outputs": [
    {
     "name": "stdout",
     "output_type": "stream",
     "text": [
      "computing velocity graph (using 1/24 cores)\n",
      "WARNING: Unable to create progress bar. Consider installing `tqdm` as `pip install tqdm` and `ipywidgets` as `pip install ipywidgets`,\n",
      "or disable the progress bar using `show_progress_bar=False`.\n",
      "    finished (0:00:06) --> added \n",
      "    'velocity_graph', sparse matrix with cosine correlations (adata.uns)\n"
     ]
    }
   ],
   "source": [
    "sc.pp.neighbors(adata)\n",
    "scv.tl.velocity_graph(adata)\n",
    "adata.write_h5ad(\"baseline.h5ad\")"
   ]
  },
  {
   "cell_type": "code",
   "execution_count": null,
   "metadata": {},
   "outputs": [],
   "source": []
  }
 ],
 "metadata": {
  "kernelspec": {
   "display_name": "DeepTrajectory",
   "language": "python",
   "name": "python3"
  },
  "language_info": {
   "codemirror_mode": {
    "name": "ipython",
    "version": 3
   },
   "file_extension": ".py",
   "mimetype": "text/x-python",
   "name": "python",
   "nbconvert_exporter": "python",
   "pygments_lexer": "ipython3",
   "version": "3.11.7"
  }
 },
 "nbformat": 4,
 "nbformat_minor": 2
}
