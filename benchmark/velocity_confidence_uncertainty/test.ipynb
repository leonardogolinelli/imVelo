{
 "cells": [
  {
   "cell_type": "code",
   "execution_count": 5,
   "metadata": {},
   "outputs": [],
   "source": [
    "import numpy as np\n",
    "import os"
   ]
  },
  {
   "cell_type": "code",
   "execution_count": 2,
   "metadata": {},
   "outputs": [],
   "source": [
    "confidence_imvelo_pancreas = np.load(\"/mnt/data2/home/leonardo/git/multilineage_velocity/benchmark/matrices/matrix_folder/confidence_imVelo_pancreas.npy\")"
   ]
  },
  {
   "cell_type": "code",
   "execution_count": 7,
   "metadata": {},
   "outputs": [
    {
     "name": "stdout",
     "output_type": "stream",
     "text": [
      "max confidence for model: imVelo in dataset:forebrain: 0.9999161303211734\n",
      "max confidence for model: lsvelo in dataset:forebrain: 1.0000000000000004\n",
      "max confidence for model: celldancer in dataset:forebrain: 0.9999161303211734\n",
      "max confidence for model: deepvelo in dataset:forebrain: 0.9998243451118469\n",
      "max confidence for model: ivelo in dataset:forebrain: 0.983260452747345\n",
      "max confidence for model: ivelo_filtered in dataset:forebrain: 0.9835580587387085\n",
      "max confidence for model: velovi in dataset:forebrain: 0.9785691499710083\n",
      "max confidence for model: velovi_filtered in dataset:forebrain: 0.9834639430046082\n",
      "max confidence for model: scvelo in dataset:forebrain: 0.9943068599191179\n",
      "max confidence for model: stochastic in dataset:forebrain: 0.9969874024391174\n",
      "max confidence for model: imVelo in dataset:pancreas: 0.9998755975592826\n",
      "max confidence for model: lsvelo in dataset:pancreas: 1.0000000000000004\n",
      "max confidence for model: celldancer in dataset:pancreas: 0.9998755975592826\n",
      "max confidence for model: deepvelo in dataset:pancreas: 0.9996760487556458\n",
      "max confidence for model: ivelo in dataset:pancreas: 0.9889480471611023\n",
      "max confidence for model: ivelo_filtered in dataset:pancreas: 0.9783156514167786\n",
      "max confidence for model: velovi in dataset:pancreas: 0.9887320399284363\n",
      "max confidence for model: velovi_filtered in dataset:pancreas: 0.9779264330863953\n",
      "max confidence for model: scvelo in dataset:pancreas: 0.9955323850789318\n",
      "max confidence for model: stochastic in dataset:pancreas: 0.9972578287124634\n",
      "max confidence for model: imVelo in dataset:gastrulation_erythroid: 0.9999853096690369\n",
      "max confidence for model: lsvelo in dataset:gastrulation_erythroid: 1.0000000000000004\n",
      "max confidence for model: celldancer in dataset:gastrulation_erythroid: 0.9999853096690369\n",
      "max confidence for model: deepvelo in dataset:gastrulation_erythroid: 0.9999545812606812\n",
      "max confidence for model: ivelo in dataset:gastrulation_erythroid: 0.9976643919944763\n",
      "max confidence for model: ivelo_filtered in dataset:gastrulation_erythroid: 0.9834994673728943\n",
      "max confidence for model: velovi in dataset:gastrulation_erythroid: 0.9949670433998108\n",
      "max confidence for model: velovi_filtered in dataset:gastrulation_erythroid: 0.9858561754226685\n",
      "max confidence for model: scvelo in dataset:gastrulation_erythroid: 0.9979241896465939\n",
      "max confidence for model: stochastic in dataset:gastrulation_erythroid: 0.9941791296005249\n",
      "max confidence for model: imVelo in dataset:dentategyrus_lamanno_P5: 0.9997059157530719\n",
      "max confidence for model: lsvelo in dataset:dentategyrus_lamanno_P5: 1.000000000000002\n",
      "max confidence for model: celldancer in dataset:dentategyrus_lamanno_P5: 0.9997059157530719\n",
      "max confidence for model: deepvelo in dataset:dentategyrus_lamanno_P5: 0.9998264312744141\n",
      "max confidence for model: ivelo in dataset:dentategyrus_lamanno_P5: 0.9997059157530719\n",
      "max confidence for model: ivelo_filtered in dataset:dentategyrus_lamanno_P5: 0.9707939028739929\n",
      "max confidence for model: velovi in dataset:dentategyrus_lamanno_P5: 0.980903685092926\n",
      "max confidence for model: velovi_filtered in dataset:dentategyrus_lamanno_P5: 0.9727830290794373\n",
      "max confidence for model: scvelo in dataset:dentategyrus_lamanno_P5: 0.9960042517986846\n",
      "max confidence for model: stochastic in dataset:dentategyrus_lamanno_P5: 0.9992737770080566\n"
     ]
    }
   ],
   "source": [
    "\n",
    "# Define models and datasets\n",
    "models = [\"imVelo\", \"lsvelo\", \"celldancer\", \"deepvelo\", \"ivelo\", \"ivelo_filtered\", \"velovi\", \"velovi_filtered\", \"scvelo\", \"stochastic\"]\n",
    "datasets = [\"forebrain\", \"pancreas\", \"gastrulation_erythroid\", \"dentategyrus_lamanno_P5\"]\n",
    "matrix_folder = \"../matrices/matrix_folder\"\n",
    "\n",
    "for dataset in datasets:\n",
    "    for model in models:\n",
    "        # Build the filename\n",
    "        file_name = f\"confidence_{model}_{dataset}.npy\"\n",
    "        file_path = os.path.join(matrix_folder, file_name)\n",
    "        confidences = np.load(file_path)\n",
    "        print(f\"max confidence for model: {model} in dataset:{dataset}: {max(confidences)}\")\n",
    "\n"
   ]
  },
  {
   "cell_type": "code",
   "execution_count": null,
   "metadata": {},
   "outputs": [],
   "source": []
  }
 ],
 "metadata": {
  "kernelspec": {
   "display_name": "DeepTrajectory",
   "language": "python",
   "name": "python3"
  },
  "language_info": {
   "codemirror_mode": {
    "name": "ipython",
    "version": 3
   },
   "file_extension": ".py",
   "mimetype": "text/x-python",
   "name": "python",
   "nbconvert_exporter": "python",
   "pygments_lexer": "ipython3",
   "version": "3.11.7"
  }
 },
 "nbformat": 4,
 "nbformat_minor": 2
}
