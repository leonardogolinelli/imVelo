{
 "cells": [
  {
   "cell_type": "code",
   "execution_count": null,
   "metadata": {},
   "outputs": [],
   "source": [
    "import warnings\n",
    "warnings.simplefilter(action='ignore')\n",
    "import scanpy as sc\n",
    "import torch\n",
    "import scarches as sca\n",
    "import numpy as np\n",
    "import gdown\n",
    "import os\n",
    "\n",
    "sc.set_figure_params(frameon=False)\n",
    "sc.set_figure_params(dpi=200)\n",
    "sc.set_figure_params(figsize=(4, 4))\n",
    "torch.set_printoptions(precision=3, sci_mode=False, edgeitems=7)"
   ]
  },
  {
   "cell_type": "code",
   "execution_count": null,
   "metadata": {},
   "outputs": [],
   "source": [
    "base_path = os.path.expanduser(f\"~/top_adatas/\")\n",
    "base_path"
   ]
  },
  {
   "cell_type": "code",
   "execution_count": null,
   "metadata": {},
   "outputs": [],
   "source": [
    "dataset_name = \"pancreas\"\n",
    "cell_type_key = \"clusters\"\n",
    "\n",
    "adata_path = base_path+f\"mivelo_{dataset_name}.h5ad\"\n",
    "adata = sc.read_h5ad(adata_path)"
   ]
  },
  {
   "cell_type": "code",
   "execution_count": null,
   "metadata": {},
   "outputs": [],
   "source": [
    "adata.varm[\"I\"].shape"
   ]
  },
  {
   "cell_type": "code",
   "execution_count": null,
   "metadata": {},
   "outputs": [],
   "source": [
    "data = np.concatenate([adata.layers[\"Mu\"], adata.layers[\"Ms\"]], axis=1)\n",
    "adata_expimap = sc.AnnData(X=data)\n",
    "adata_expimap.obs[cell_type_key] = adata.obs[cell_type_key].copy()\n",
    "adata_expimap.varm[\"I\"] = adata.uns[\"mask\"]"
   ]
  },
  {
   "cell_type": "code",
   "execution_count": null,
   "metadata": {},
   "outputs": [],
   "source": [
    "print(f\"Hard mask shape: {adata_expimap.varm['I'].shape}\")\n",
    "adata_expimap.obs[\"study\"] = \"0\"\n",
    "intr_cvae = sca.models.EXPIMAP(\n",
    "    adata=adata_expimap,\n",
    "    condition_key='study',\n",
    "    hidden_layer_sizes=[512, 512, 512],\n",
    "    recon_loss='mse',\n",
    "    soft_mask = False,\n",
    "    n_ext = 0,\n",
    "    use_hsic=False,\n",
    ")"
   ]
  },
  {
   "cell_type": "code",
   "execution_count": null,
   "metadata": {},
   "outputs": [],
   "source": [
    "ALPHA = .7\n",
    "early_stopping_kwargs = {\n",
    "    \"early_stopping_metric\": \"val_unweighted_loss\", # val_unweighted_loss\n",
    "    \"threshold\": 0,\n",
    "    \"patience\": 50,\n",
    "    \"reduce_lr\": False,\n",
    "    \"lr_patience\": 13,\n",
    "    \"lr_factor\": 0.1,\n",
    "}\n",
    "intr_cvae.train(\n",
    "    n_epochs=1000,\n",
    "    alpha_epoch_anneal=500,\n",
    "    alpha=ALPHA,\n",
    "    alpha_kl=1e-5,\n",
    "    weight_decay=0.01,\n",
    "    early_stopping_kwargs=early_stopping_kwargs,\n",
    "    use_early_stopping=False,\n",
    "    monitor_only_val=False,\n",
    "    seed=2020,\n",
    "    train_frac=1,\n",
    "    print_stats=True\n",
    "\n",
    ")"
   ]
  },
  {
   "cell_type": "code",
   "execution_count": null,
   "metadata": {},
   "outputs": [],
   "source": [
    "adata.obsm['z'] = intr_cvae.get_latent(mean=False, only_active=True)\n",
    "sc.pp.neighbors(adata, use_rep='z')\n",
    "sc.tl.umap(adata)\n",
    "sc.pl.umap(adata, color=[cell_type_key], frameon=False)"
   ]
  },
  {
   "cell_type": "code",
   "execution_count": null,
   "metadata": {},
   "outputs": [],
   "source": []
  },
  {
   "cell_type": "code",
   "execution_count": null,
   "metadata": {},
   "outputs": [],
   "source": [
    "adata.write_h5ad(base_path+f\"expimap_{dataset_name}.h5ad\")\n",
    "adata.write_h5ad(f\"expimap_{dataset_name}.h5ad\")"
   ]
  },
  {
   "cell_type": "code",
   "execution_count": null,
   "metadata": {},
   "outputs": [],
   "source": []
  },
  {
   "cell_type": "code",
   "execution_count": 20,
   "metadata": {},
   "outputs": [],
   "source": [
    "adata.write_h5ad(\"expimap_pancreas.h5ad\")"
   ]
  }
 ],
 "metadata": {
  "kernelspec": {
   "display_name": "DeepTrajectory",
   "language": "python",
   "name": "python3"
  },
  "language_info": {
   "codemirror_mode": {
    "name": "ipython",
    "version": 3
   },
   "file_extension": ".py",
   "mimetype": "text/x-python",
   "name": "python",
   "nbconvert_exporter": "python",
   "pygments_lexer": "ipython3",
   "version": "3.1.undefined"
  }
 },
 "nbformat": 4,
 "nbformat_minor": 2
}
