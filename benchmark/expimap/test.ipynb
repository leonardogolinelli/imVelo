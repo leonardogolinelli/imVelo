{
 "cells": [
  {
   "cell_type": "code",
   "execution_count": 1,
   "metadata": {},
   "outputs": [
    {
     "name": "stderr",
     "output_type": "stream",
     "text": [
      "WARNING:root:In order to use the mouse gastrulation seqFISH datsets, please install squidpy (see https://github.com/scverse/squidpy).\n",
      "/mnt/data2/home/leonardo/miniconda3/envs/DeepTrajectory/lib/python3.11/site-packages/scvi/_settings.py:63: UserWarning: Since v1.0.0, scvi-tools no longer uses a random seed by default. Run `scvi.settings.seed = 0` to reproduce results from previous versions.\n",
      "  self.seed = seed\n",
      "/mnt/data2/home/leonardo/miniconda3/envs/DeepTrajectory/lib/python3.11/site-packages/scvi/_settings.py:70: UserWarning: Setting `dl_pin_memory_gpu_training` is deprecated in v1.0 and will be removed in v1.1. Please pass in `pin_memory` to the data loaders instead.\n",
      "  self.dl_pin_memory_gpu_training = (\n",
      "/mnt/data2/home/leonardo/miniconda3/envs/DeepTrajectory/lib/python3.11/site-packages/tqdm/auto.py:21: TqdmWarning: IProgress not found. Please update jupyter and ipywidgets. See https://ipywidgets.readthedocs.io/en/stable/user_install.html\n",
      "  from .autonotebook import tqdm as notebook_tqdm\n",
      "WARNING:root:In order to use sagenet models, please install pytorch geometric (see https://pytorch-geometric.readthedocs.io) and \n",
      " captum (see https://github.com/pytorch/captum).\n",
      "WARNING:root:mvTCR is not installed. To use mvTCR models, please install it first using \"pip install mvtcr\"\n",
      "WARNING:root:multigrate is not installed. To use multigrate models, please install it first using \"pip install multigrate\".\n"
     ]
    },
    {
     "name": "stdout",
     "output_type": "stream",
     "text": [
      "dataset: forebrain\n",
      "AnnData object with n_obs × n_vars = 1720 × 4898\n",
      "    obs: 'Clusters', 'initial_size_unspliced', 'initial_size_spliced', 'initial_size', 'n_counts', 'isomap_1', 'isomap_2', 'isomap_3', 'isomap_1+2', 'isomap_1+3', 'isomap_2+3', 'pca_1', 'pca_2', 'pca_3', 'pca_1+2', 'pca_1+3', 'pca_2+3', 'isomap_1_ve', 'isomap_2_ve', 'isomap_3_ve', 'isomap_1_MuMs', 'isomap_2_MuMs', 'isomap_3_MuMs', 'isomap_1_z', 'isomap_2_z', 'isomap_3_z', 'isomap_1_velocity', 'isomap_2_velocity', 'isomap_3_velocity', 'isomap_1_velocity_concat', 'isomap_2_velocity_concat', 'isomap_3_velocity_concat', 'isomap_1_PCA', 'isomap_2_PCA', 'isomap_3_PCA', 'velocity_self_transition', 'velocity_length', 'velocity_confidence', 'velocity_confidence_transition', 'root_cells', 'end_points', 'velocity_pseudotime', 'directional_variance', 'directional_difference', 'directional_cosine_sim_variance', 'directional_cosine_sim_difference', 'directional_cosine_sim_mean', 'velocities_miVelo_0_self_transition', 'velocities_miVelo_1_self_transition', 'velocities_miVelo_2_self_transition', 'velocities_miVelo_3_self_transition', 'velocities_miVelo_4_self_transition', 'velocities_miVelo_5_self_transition', 'velocities_miVelo_6_self_transition', 'velocities_miVelo_7_self_transition', 'velocities_miVelo_8_self_transition', 'velocities_miVelo_9_self_transition', 'velocities_miVelo_10_self_transition', 'velocities_miVelo_11_self_transition', 'velocities_miVelo_12_self_transition', 'velocities_miVelo_13_self_transition', 'velocities_miVelo_14_self_transition', 'velocities_miVelo_15_self_transition', 'velocities_miVelo_16_self_transition', 'velocities_miVelo_17_self_transition', 'velocities_miVelo_18_self_transition', 'velocities_miVelo_19_self_transition', 'velocities_miVelo_20_self_transition', 'velocities_miVelo_21_self_transition', 'velocities_miVelo_22_self_transition', 'velocities_miVelo_23_self_transition', 'velocities_miVelo_24_self_transition', 'directional_variance_extrinisic', 'directional_difference_extrinisic', 'directional_cosine_sim_variance_extrinisic', 'directional_cosine_sim_difference_extrinisic', 'directional_cosine_sim_mean_extrinisic', 'study'\n",
      "    uns: 'terms'\n",
      "    varm: 'I'\n",
      "\n",
      "INITIALIZING NEW NETWORK..............\n",
      "Encoder Architecture:\n",
      "\tInput Layer in, out and cond: 4898 512 1\n",
      "\tHidden Layer 1 in/out: 512 512\n",
      "\tHidden Layer 2 in/out: 512 512\n",
      "\tMean/Var Layer in/out: 512 349\n",
      "Decoder Architecture:\n",
      "\tMasked linear layer in, ext_m, ext, cond, out:  349 0 0 1 4898\n",
      "\twith hard mask.\n",
      "Last Decoder layer: identity\n",
      "building adata gp\n",
      "dataset: pancreas\n"
     ]
    },
    {
     "ename": "KeyboardInterrupt",
     "evalue": "",
     "output_type": "error",
     "traceback": [
      "\u001b[0;31m---------------------------------------------------------------------------\u001b[0m",
      "\u001b[0;31mKeyboardInterrupt\u001b[0m                         Traceback (most recent call last)",
      "Cell \u001b[0;32mIn[1], line 15\u001b[0m\n\u001b[1;32m     13\u001b[0m \u001b[38;5;66;03m# Load the saved EXPIMAP model\u001b[39;00m\n\u001b[1;32m     14\u001b[0m adata_path \u001b[38;5;241m=\u001b[39m \u001b[38;5;124mf\u001b[39m\u001b[38;5;124m\"\u001b[39m\u001b[38;5;132;01m{\u001b[39;00mdataset\u001b[38;5;132;01m}\u001b[39;00m\u001b[38;5;124m/\u001b[39m\u001b[38;5;132;01m{\u001b[39;00mmodel\u001b[38;5;132;01m}\u001b[39;00m\u001b[38;5;124m_\u001b[39m\u001b[38;5;132;01m{\u001b[39;00mdataset\u001b[38;5;132;01m}\u001b[39;00m\u001b[38;5;124m.h5ad\u001b[39m\u001b[38;5;124m\"\u001b[39m\n\u001b[0;32m---> 15\u001b[0m adata \u001b[38;5;241m=\u001b[39m sc\u001b[38;5;241m.\u001b[39mread_h5ad(adata_path)\n\u001b[1;32m     17\u001b[0m \u001b[38;5;66;03m# Assuming 'MuMs' and other necessary data are in `adata`\u001b[39;00m\n\u001b[1;32m     18\u001b[0m data \u001b[38;5;241m=\u001b[39m adata\u001b[38;5;241m.\u001b[39mobsm[\u001b[38;5;124m\"\u001b[39m\u001b[38;5;124mMuMs\u001b[39m\u001b[38;5;124m\"\u001b[39m]\n",
      "File \u001b[0;32m~/miniconda3/envs/DeepTrajectory/lib/python3.11/site-packages/anndata/_io/h5ad.py:261\u001b[0m, in \u001b[0;36mread_h5ad\u001b[0;34m(filename, backed, as_sparse, as_sparse_fmt, chunk_size)\u001b[0m\n\u001b[1;32m    258\u001b[0m         \u001b[38;5;28;01mreturn\u001b[39;00m read_dataframe(elem)\n\u001b[1;32m    259\u001b[0m     \u001b[38;5;28;01mreturn\u001b[39;00m func(elem)\n\u001b[0;32m--> 261\u001b[0m adata \u001b[38;5;241m=\u001b[39m read_dispatched(f, callback\u001b[38;5;241m=\u001b[39mcallback)\n\u001b[1;32m    263\u001b[0m \u001b[38;5;66;03m# Backwards compat (should figure out which version)\u001b[39;00m\n\u001b[1;32m    264\u001b[0m \u001b[38;5;28;01mif\u001b[39;00m \u001b[38;5;124m\"\u001b[39m\u001b[38;5;124mraw.X\u001b[39m\u001b[38;5;124m\"\u001b[39m \u001b[38;5;129;01min\u001b[39;00m f:\n",
      "File \u001b[0;32m~/miniconda3/envs/DeepTrajectory/lib/python3.11/site-packages/anndata/experimental/_dispatch_io.py:48\u001b[0m, in \u001b[0;36mread_dispatched\u001b[0;34m(elem, callback)\u001b[0m\n\u001b[1;32m     44\u001b[0m \u001b[38;5;28;01mfrom\u001b[39;00m \u001b[38;5;21;01manndata\u001b[39;00m\u001b[38;5;21;01m.\u001b[39;00m\u001b[38;5;21;01m_io\u001b[39;00m\u001b[38;5;21;01m.\u001b[39;00m\u001b[38;5;21;01mspecs\u001b[39;00m \u001b[38;5;28;01mimport\u001b[39;00m _REGISTRY, Reader\n\u001b[1;32m     46\u001b[0m reader \u001b[38;5;241m=\u001b[39m Reader(_REGISTRY, callback\u001b[38;5;241m=\u001b[39mcallback)\n\u001b[0;32m---> 48\u001b[0m \u001b[38;5;28;01mreturn\u001b[39;00m reader\u001b[38;5;241m.\u001b[39mread_elem(elem)\n",
      "File \u001b[0;32m~/miniconda3/envs/DeepTrajectory/lib/python3.11/site-packages/anndata/_io/utils.py:207\u001b[0m, in \u001b[0;36mreport_read_key_on_error.<locals>.func_wrapper\u001b[0;34m(*args, **kwargs)\u001b[0m\n\u001b[1;32m    205\u001b[0m     \u001b[38;5;28;01mraise\u001b[39;00m \u001b[38;5;167;01mValueError\u001b[39;00m(\u001b[38;5;124m\"\u001b[39m\u001b[38;5;124mNo element found in args.\u001b[39m\u001b[38;5;124m\"\u001b[39m)\n\u001b[1;32m    206\u001b[0m \u001b[38;5;28;01mtry\u001b[39;00m:\n\u001b[0;32m--> 207\u001b[0m     \u001b[38;5;28;01mreturn\u001b[39;00m func(\u001b[38;5;241m*\u001b[39margs, \u001b[38;5;241m*\u001b[39m\u001b[38;5;241m*\u001b[39mkwargs)\n\u001b[1;32m    208\u001b[0m \u001b[38;5;28;01mexcept\u001b[39;00m \u001b[38;5;167;01mException\u001b[39;00m \u001b[38;5;28;01mas\u001b[39;00m e:\n\u001b[1;32m    209\u001b[0m     path, key \u001b[38;5;241m=\u001b[39m _get_display_path(store)\u001b[38;5;241m.\u001b[39mrsplit(\u001b[38;5;124m\"\u001b[39m\u001b[38;5;124m/\u001b[39m\u001b[38;5;124m\"\u001b[39m, \u001b[38;5;241m1\u001b[39m)\n",
      "File \u001b[0;32m~/miniconda3/envs/DeepTrajectory/lib/python3.11/site-packages/anndata/_io/specs/registry.py:256\u001b[0m, in \u001b[0;36mReader.read_elem\u001b[0;34m(self, elem, modifiers)\u001b[0m\n\u001b[1;32m    254\u001b[0m \u001b[38;5;28;01mif\u001b[39;00m \u001b[38;5;28mself\u001b[39m\u001b[38;5;241m.\u001b[39mcallback \u001b[38;5;129;01mis\u001b[39;00m \u001b[38;5;28;01mNone\u001b[39;00m:\n\u001b[1;32m    255\u001b[0m     \u001b[38;5;28;01mreturn\u001b[39;00m read_func(elem)\n\u001b[0;32m--> 256\u001b[0m \u001b[38;5;28;01mreturn\u001b[39;00m \u001b[38;5;28mself\u001b[39m\u001b[38;5;241m.\u001b[39mcallback(read_func, elem\u001b[38;5;241m.\u001b[39mname, elem, iospec\u001b[38;5;241m=\u001b[39miospec)\n",
      "File \u001b[0;32m~/miniconda3/envs/DeepTrajectory/lib/python3.11/site-packages/anndata/_io/h5ad.py:242\u001b[0m, in \u001b[0;36mread_h5ad.<locals>.callback\u001b[0;34m(func, elem_name, elem, iospec)\u001b[0m\n\u001b[1;32m    239\u001b[0m \u001b[38;5;28;01mdef\u001b[39;00m \u001b[38;5;21mcallback\u001b[39m(func, elem_name: \u001b[38;5;28mstr\u001b[39m, elem, iospec):\n\u001b[1;32m    240\u001b[0m     \u001b[38;5;28;01mif\u001b[39;00m iospec\u001b[38;5;241m.\u001b[39mencoding_type \u001b[38;5;241m==\u001b[39m \u001b[38;5;124m\"\u001b[39m\u001b[38;5;124manndata\u001b[39m\u001b[38;5;124m\"\u001b[39m \u001b[38;5;129;01mor\u001b[39;00m elem_name\u001b[38;5;241m.\u001b[39mendswith(\u001b[38;5;124m\"\u001b[39m\u001b[38;5;124m/\u001b[39m\u001b[38;5;124m\"\u001b[39m):\n\u001b[1;32m    241\u001b[0m         \u001b[38;5;28;01mreturn\u001b[39;00m AnnData(\n\u001b[0;32m--> 242\u001b[0m             \u001b[38;5;241m*\u001b[39m\u001b[38;5;241m*\u001b[39m{\n\u001b[1;32m    243\u001b[0m                 \u001b[38;5;66;03m# This is covering up backwards compat in the anndata initializer\u001b[39;00m\n\u001b[1;32m    244\u001b[0m                 \u001b[38;5;66;03m# In most cases we should be able to call `func(elen[k])` instead\u001b[39;00m\n\u001b[1;32m    245\u001b[0m                 k: read_dispatched(elem[k], callback)\n\u001b[1;32m    246\u001b[0m                 \u001b[38;5;28;01mfor\u001b[39;00m k \u001b[38;5;129;01min\u001b[39;00m elem\u001b[38;5;241m.\u001b[39mkeys()\n\u001b[1;32m    247\u001b[0m                 \u001b[38;5;28;01mif\u001b[39;00m \u001b[38;5;129;01mnot\u001b[39;00m k\u001b[38;5;241m.\u001b[39mstartswith(\u001b[38;5;124m\"\u001b[39m\u001b[38;5;124mraw.\u001b[39m\u001b[38;5;124m\"\u001b[39m)\n\u001b[1;32m    248\u001b[0m             }\n\u001b[1;32m    249\u001b[0m         )\n\u001b[1;32m    250\u001b[0m     \u001b[38;5;28;01melif\u001b[39;00m elem_name\u001b[38;5;241m.\u001b[39mstartswith(\u001b[38;5;124m\"\u001b[39m\u001b[38;5;124m/raw.\u001b[39m\u001b[38;5;124m\"\u001b[39m):\n\u001b[1;32m    251\u001b[0m         \u001b[38;5;28;01mreturn\u001b[39;00m \u001b[38;5;28;01mNone\u001b[39;00m\n",
      "File \u001b[0;32m~/miniconda3/envs/DeepTrajectory/lib/python3.11/site-packages/anndata/_io/h5ad.py:245\u001b[0m, in \u001b[0;36m<dictcomp>\u001b[0;34m(.0)\u001b[0m\n\u001b[1;32m    239\u001b[0m \u001b[38;5;28;01mdef\u001b[39;00m \u001b[38;5;21mcallback\u001b[39m(func, elem_name: \u001b[38;5;28mstr\u001b[39m, elem, iospec):\n\u001b[1;32m    240\u001b[0m     \u001b[38;5;28;01mif\u001b[39;00m iospec\u001b[38;5;241m.\u001b[39mencoding_type \u001b[38;5;241m==\u001b[39m \u001b[38;5;124m\"\u001b[39m\u001b[38;5;124manndata\u001b[39m\u001b[38;5;124m\"\u001b[39m \u001b[38;5;129;01mor\u001b[39;00m elem_name\u001b[38;5;241m.\u001b[39mendswith(\u001b[38;5;124m\"\u001b[39m\u001b[38;5;124m/\u001b[39m\u001b[38;5;124m\"\u001b[39m):\n\u001b[1;32m    241\u001b[0m         \u001b[38;5;28;01mreturn\u001b[39;00m AnnData(\n\u001b[1;32m    242\u001b[0m             \u001b[38;5;241m*\u001b[39m\u001b[38;5;241m*\u001b[39m{\n\u001b[1;32m    243\u001b[0m                 \u001b[38;5;66;03m# This is covering up backwards compat in the anndata initializer\u001b[39;00m\n\u001b[1;32m    244\u001b[0m                 \u001b[38;5;66;03m# In most cases we should be able to call `func(elen[k])` instead\u001b[39;00m\n\u001b[0;32m--> 245\u001b[0m                 k: read_dispatched(elem[k], callback)\n\u001b[1;32m    246\u001b[0m                 \u001b[38;5;28;01mfor\u001b[39;00m k \u001b[38;5;129;01min\u001b[39;00m elem\u001b[38;5;241m.\u001b[39mkeys()\n\u001b[1;32m    247\u001b[0m                 \u001b[38;5;28;01mif\u001b[39;00m \u001b[38;5;129;01mnot\u001b[39;00m k\u001b[38;5;241m.\u001b[39mstartswith(\u001b[38;5;124m\"\u001b[39m\u001b[38;5;124mraw.\u001b[39m\u001b[38;5;124m\"\u001b[39m)\n\u001b[1;32m    248\u001b[0m             }\n\u001b[1;32m    249\u001b[0m         )\n\u001b[1;32m    250\u001b[0m     \u001b[38;5;28;01melif\u001b[39;00m elem_name\u001b[38;5;241m.\u001b[39mstartswith(\u001b[38;5;124m\"\u001b[39m\u001b[38;5;124m/raw.\u001b[39m\u001b[38;5;124m\"\u001b[39m):\n\u001b[1;32m    251\u001b[0m         \u001b[38;5;28;01mreturn\u001b[39;00m \u001b[38;5;28;01mNone\u001b[39;00m\n",
      "File \u001b[0;32m~/miniconda3/envs/DeepTrajectory/lib/python3.11/site-packages/anndata/experimental/_dispatch_io.py:48\u001b[0m, in \u001b[0;36mread_dispatched\u001b[0;34m(elem, callback)\u001b[0m\n\u001b[1;32m     44\u001b[0m \u001b[38;5;28;01mfrom\u001b[39;00m \u001b[38;5;21;01manndata\u001b[39;00m\u001b[38;5;21;01m.\u001b[39;00m\u001b[38;5;21;01m_io\u001b[39;00m\u001b[38;5;21;01m.\u001b[39;00m\u001b[38;5;21;01mspecs\u001b[39;00m \u001b[38;5;28;01mimport\u001b[39;00m _REGISTRY, Reader\n\u001b[1;32m     46\u001b[0m reader \u001b[38;5;241m=\u001b[39m Reader(_REGISTRY, callback\u001b[38;5;241m=\u001b[39mcallback)\n\u001b[0;32m---> 48\u001b[0m \u001b[38;5;28;01mreturn\u001b[39;00m reader\u001b[38;5;241m.\u001b[39mread_elem(elem)\n",
      "File \u001b[0;32m~/miniconda3/envs/DeepTrajectory/lib/python3.11/site-packages/anndata/_io/utils.py:207\u001b[0m, in \u001b[0;36mreport_read_key_on_error.<locals>.func_wrapper\u001b[0;34m(*args, **kwargs)\u001b[0m\n\u001b[1;32m    205\u001b[0m     \u001b[38;5;28;01mraise\u001b[39;00m \u001b[38;5;167;01mValueError\u001b[39;00m(\u001b[38;5;124m\"\u001b[39m\u001b[38;5;124mNo element found in args.\u001b[39m\u001b[38;5;124m\"\u001b[39m)\n\u001b[1;32m    206\u001b[0m \u001b[38;5;28;01mtry\u001b[39;00m:\n\u001b[0;32m--> 207\u001b[0m     \u001b[38;5;28;01mreturn\u001b[39;00m func(\u001b[38;5;241m*\u001b[39margs, \u001b[38;5;241m*\u001b[39m\u001b[38;5;241m*\u001b[39mkwargs)\n\u001b[1;32m    208\u001b[0m \u001b[38;5;28;01mexcept\u001b[39;00m \u001b[38;5;167;01mException\u001b[39;00m \u001b[38;5;28;01mas\u001b[39;00m e:\n\u001b[1;32m    209\u001b[0m     path, key \u001b[38;5;241m=\u001b[39m _get_display_path(store)\u001b[38;5;241m.\u001b[39mrsplit(\u001b[38;5;124m\"\u001b[39m\u001b[38;5;124m/\u001b[39m\u001b[38;5;124m\"\u001b[39m, \u001b[38;5;241m1\u001b[39m)\n",
      "File \u001b[0;32m~/miniconda3/envs/DeepTrajectory/lib/python3.11/site-packages/anndata/_io/specs/registry.py:256\u001b[0m, in \u001b[0;36mReader.read_elem\u001b[0;34m(self, elem, modifiers)\u001b[0m\n\u001b[1;32m    254\u001b[0m \u001b[38;5;28;01mif\u001b[39;00m \u001b[38;5;28mself\u001b[39m\u001b[38;5;241m.\u001b[39mcallback \u001b[38;5;129;01mis\u001b[39;00m \u001b[38;5;28;01mNone\u001b[39;00m:\n\u001b[1;32m    255\u001b[0m     \u001b[38;5;28;01mreturn\u001b[39;00m read_func(elem)\n\u001b[0;32m--> 256\u001b[0m \u001b[38;5;28;01mreturn\u001b[39;00m \u001b[38;5;28mself\u001b[39m\u001b[38;5;241m.\u001b[39mcallback(read_func, elem\u001b[38;5;241m.\u001b[39mname, elem, iospec\u001b[38;5;241m=\u001b[39miospec)\n",
      "File \u001b[0;32m~/miniconda3/envs/DeepTrajectory/lib/python3.11/site-packages/anndata/_io/h5ad.py:259\u001b[0m, in \u001b[0;36mread_h5ad.<locals>.callback\u001b[0;34m(func, elem_name, elem, iospec)\u001b[0m\n\u001b[1;32m    256\u001b[0m \u001b[38;5;28;01melif\u001b[39;00m elem_name \u001b[38;5;129;01min\u001b[39;00m {\u001b[38;5;124m\"\u001b[39m\u001b[38;5;124m/obs\u001b[39m\u001b[38;5;124m\"\u001b[39m, \u001b[38;5;124m\"\u001b[39m\u001b[38;5;124m/var\u001b[39m\u001b[38;5;124m\"\u001b[39m}:\n\u001b[1;32m    257\u001b[0m     \u001b[38;5;66;03m# Backwards compat\u001b[39;00m\n\u001b[1;32m    258\u001b[0m     \u001b[38;5;28;01mreturn\u001b[39;00m read_dataframe(elem)\n\u001b[0;32m--> 259\u001b[0m \u001b[38;5;28;01mreturn\u001b[39;00m func(elem)\n",
      "File \u001b[0;32m~/miniconda3/envs/DeepTrajectory/lib/python3.11/site-packages/anndata/_io/specs/methods.py:304\u001b[0m, in \u001b[0;36mread_mapping\u001b[0;34m(elem, _reader)\u001b[0m\n\u001b[1;32m    301\u001b[0m \u001b[38;5;129m@_REGISTRY\u001b[39m\u001b[38;5;241m.\u001b[39mregister_read(H5Group, IOSpec(\u001b[38;5;124m\"\u001b[39m\u001b[38;5;124mdict\u001b[39m\u001b[38;5;124m\"\u001b[39m, \u001b[38;5;124m\"\u001b[39m\u001b[38;5;124m0.1.0\u001b[39m\u001b[38;5;124m\"\u001b[39m))\n\u001b[1;32m    302\u001b[0m \u001b[38;5;129m@_REGISTRY\u001b[39m\u001b[38;5;241m.\u001b[39mregister_read(ZarrGroup, IOSpec(\u001b[38;5;124m\"\u001b[39m\u001b[38;5;124mdict\u001b[39m\u001b[38;5;124m\"\u001b[39m, \u001b[38;5;124m\"\u001b[39m\u001b[38;5;124m0.1.0\u001b[39m\u001b[38;5;124m\"\u001b[39m))\n\u001b[1;32m    303\u001b[0m \u001b[38;5;28;01mdef\u001b[39;00m \u001b[38;5;21mread_mapping\u001b[39m(elem, _reader):\n\u001b[0;32m--> 304\u001b[0m     \u001b[38;5;28;01mreturn\u001b[39;00m {k: _reader\u001b[38;5;241m.\u001b[39mread_elem(v) \u001b[38;5;28;01mfor\u001b[39;00m k, v \u001b[38;5;129;01min\u001b[39;00m elem\u001b[38;5;241m.\u001b[39mitems()}\n",
      "File \u001b[0;32m~/miniconda3/envs/DeepTrajectory/lib/python3.11/site-packages/anndata/_io/specs/methods.py:304\u001b[0m, in \u001b[0;36m<dictcomp>\u001b[0;34m(.0)\u001b[0m\n\u001b[1;32m    301\u001b[0m \u001b[38;5;129m@_REGISTRY\u001b[39m\u001b[38;5;241m.\u001b[39mregister_read(H5Group, IOSpec(\u001b[38;5;124m\"\u001b[39m\u001b[38;5;124mdict\u001b[39m\u001b[38;5;124m\"\u001b[39m, \u001b[38;5;124m\"\u001b[39m\u001b[38;5;124m0.1.0\u001b[39m\u001b[38;5;124m\"\u001b[39m))\n\u001b[1;32m    302\u001b[0m \u001b[38;5;129m@_REGISTRY\u001b[39m\u001b[38;5;241m.\u001b[39mregister_read(ZarrGroup, IOSpec(\u001b[38;5;124m\"\u001b[39m\u001b[38;5;124mdict\u001b[39m\u001b[38;5;124m\"\u001b[39m, \u001b[38;5;124m\"\u001b[39m\u001b[38;5;124m0.1.0\u001b[39m\u001b[38;5;124m\"\u001b[39m))\n\u001b[1;32m    303\u001b[0m \u001b[38;5;28;01mdef\u001b[39;00m \u001b[38;5;21mread_mapping\u001b[39m(elem, _reader):\n\u001b[0;32m--> 304\u001b[0m     \u001b[38;5;28;01mreturn\u001b[39;00m {k: _reader\u001b[38;5;241m.\u001b[39mread_elem(v) \u001b[38;5;28;01mfor\u001b[39;00m k, v \u001b[38;5;129;01min\u001b[39;00m elem\u001b[38;5;241m.\u001b[39mitems()}\n",
      "File \u001b[0;32m~/miniconda3/envs/DeepTrajectory/lib/python3.11/site-packages/anndata/_io/utils.py:207\u001b[0m, in \u001b[0;36mreport_read_key_on_error.<locals>.func_wrapper\u001b[0;34m(*args, **kwargs)\u001b[0m\n\u001b[1;32m    205\u001b[0m     \u001b[38;5;28;01mraise\u001b[39;00m \u001b[38;5;167;01mValueError\u001b[39;00m(\u001b[38;5;124m\"\u001b[39m\u001b[38;5;124mNo element found in args.\u001b[39m\u001b[38;5;124m\"\u001b[39m)\n\u001b[1;32m    206\u001b[0m \u001b[38;5;28;01mtry\u001b[39;00m:\n\u001b[0;32m--> 207\u001b[0m     \u001b[38;5;28;01mreturn\u001b[39;00m func(\u001b[38;5;241m*\u001b[39margs, \u001b[38;5;241m*\u001b[39m\u001b[38;5;241m*\u001b[39mkwargs)\n\u001b[1;32m    208\u001b[0m \u001b[38;5;28;01mexcept\u001b[39;00m \u001b[38;5;167;01mException\u001b[39;00m \u001b[38;5;28;01mas\u001b[39;00m e:\n\u001b[1;32m    209\u001b[0m     path, key \u001b[38;5;241m=\u001b[39m _get_display_path(store)\u001b[38;5;241m.\u001b[39mrsplit(\u001b[38;5;124m\"\u001b[39m\u001b[38;5;124m/\u001b[39m\u001b[38;5;124m\"\u001b[39m, \u001b[38;5;241m1\u001b[39m)\n",
      "File \u001b[0;32m~/miniconda3/envs/DeepTrajectory/lib/python3.11/site-packages/anndata/_io/specs/registry.py:256\u001b[0m, in \u001b[0;36mReader.read_elem\u001b[0;34m(self, elem, modifiers)\u001b[0m\n\u001b[1;32m    254\u001b[0m \u001b[38;5;28;01mif\u001b[39;00m \u001b[38;5;28mself\u001b[39m\u001b[38;5;241m.\u001b[39mcallback \u001b[38;5;129;01mis\u001b[39;00m \u001b[38;5;28;01mNone\u001b[39;00m:\n\u001b[1;32m    255\u001b[0m     \u001b[38;5;28;01mreturn\u001b[39;00m read_func(elem)\n\u001b[0;32m--> 256\u001b[0m \u001b[38;5;28;01mreturn\u001b[39;00m \u001b[38;5;28mself\u001b[39m\u001b[38;5;241m.\u001b[39mcallback(read_func, elem\u001b[38;5;241m.\u001b[39mname, elem, iospec\u001b[38;5;241m=\u001b[39miospec)\n",
      "File \u001b[0;32m~/miniconda3/envs/DeepTrajectory/lib/python3.11/site-packages/anndata/_io/h5ad.py:259\u001b[0m, in \u001b[0;36mread_h5ad.<locals>.callback\u001b[0;34m(func, elem_name, elem, iospec)\u001b[0m\n\u001b[1;32m    256\u001b[0m \u001b[38;5;28;01melif\u001b[39;00m elem_name \u001b[38;5;129;01min\u001b[39;00m {\u001b[38;5;124m\"\u001b[39m\u001b[38;5;124m/obs\u001b[39m\u001b[38;5;124m\"\u001b[39m, \u001b[38;5;124m\"\u001b[39m\u001b[38;5;124m/var\u001b[39m\u001b[38;5;124m\"\u001b[39m}:\n\u001b[1;32m    257\u001b[0m     \u001b[38;5;66;03m# Backwards compat\u001b[39;00m\n\u001b[1;32m    258\u001b[0m     \u001b[38;5;28;01mreturn\u001b[39;00m read_dataframe(elem)\n\u001b[0;32m--> 259\u001b[0m \u001b[38;5;28;01mreturn\u001b[39;00m func(elem)\n",
      "File \u001b[0;32m~/miniconda3/envs/DeepTrajectory/lib/python3.11/site-packages/anndata/_io/specs/methods.py:378\u001b[0m, in \u001b[0;36mread_array\u001b[0;34m(elem, _reader)\u001b[0m\n\u001b[1;32m    374\u001b[0m \u001b[38;5;129m@_REGISTRY\u001b[39m\u001b[38;5;241m.\u001b[39mregister_read(H5Array, IOSpec(\u001b[38;5;124m\"\u001b[39m\u001b[38;5;124marray\u001b[39m\u001b[38;5;124m\"\u001b[39m, \u001b[38;5;124m\"\u001b[39m\u001b[38;5;124m0.2.0\u001b[39m\u001b[38;5;124m\"\u001b[39m))\n\u001b[1;32m    375\u001b[0m \u001b[38;5;129m@_REGISTRY\u001b[39m\u001b[38;5;241m.\u001b[39mregister_read(ZarrArray, IOSpec(\u001b[38;5;124m\"\u001b[39m\u001b[38;5;124marray\u001b[39m\u001b[38;5;124m\"\u001b[39m, \u001b[38;5;124m\"\u001b[39m\u001b[38;5;124m0.2.0\u001b[39m\u001b[38;5;124m\"\u001b[39m))\n\u001b[1;32m    376\u001b[0m \u001b[38;5;129m@_REGISTRY\u001b[39m\u001b[38;5;241m.\u001b[39mregister_read(ZarrArray, IOSpec(\u001b[38;5;124m\"\u001b[39m\u001b[38;5;124mstring-array\u001b[39m\u001b[38;5;124m\"\u001b[39m, \u001b[38;5;124m\"\u001b[39m\u001b[38;5;124m0.2.0\u001b[39m\u001b[38;5;124m\"\u001b[39m))\n\u001b[1;32m    377\u001b[0m \u001b[38;5;28;01mdef\u001b[39;00m \u001b[38;5;21mread_array\u001b[39m(elem, _reader):\n\u001b[0;32m--> 378\u001b[0m     \u001b[38;5;28;01mreturn\u001b[39;00m elem[()]\n",
      "File \u001b[0;32mh5py/_objects.pyx:54\u001b[0m, in \u001b[0;36mh5py._objects.with_phil.wrapper\u001b[0;34m()\u001b[0m\n",
      "File \u001b[0;32mh5py/_objects.pyx:55\u001b[0m, in \u001b[0;36mh5py._objects.with_phil.wrapper\u001b[0;34m()\u001b[0m\n",
      "File \u001b[0;32m~/miniconda3/envs/DeepTrajectory/lib/python3.11/site-packages/h5py/_hl/dataset.py:758\u001b[0m, in \u001b[0;36mDataset.__getitem__\u001b[0;34m(self, args, new_dtype)\u001b[0m\n\u001b[1;32m    756\u001b[0m \u001b[38;5;28;01mif\u001b[39;00m \u001b[38;5;28mself\u001b[39m\u001b[38;5;241m.\u001b[39m_fast_read_ok \u001b[38;5;129;01mand\u001b[39;00m (new_dtype \u001b[38;5;129;01mis\u001b[39;00m \u001b[38;5;28;01mNone\u001b[39;00m):\n\u001b[1;32m    757\u001b[0m     \u001b[38;5;28;01mtry\u001b[39;00m:\n\u001b[0;32m--> 758\u001b[0m         \u001b[38;5;28;01mreturn\u001b[39;00m \u001b[38;5;28mself\u001b[39m\u001b[38;5;241m.\u001b[39m_fast_reader\u001b[38;5;241m.\u001b[39mread(args)\n\u001b[1;32m    759\u001b[0m     \u001b[38;5;28;01mexcept\u001b[39;00m \u001b[38;5;167;01mTypeError\u001b[39;00m:\n\u001b[1;32m    760\u001b[0m         \u001b[38;5;28;01mpass\u001b[39;00m  \u001b[38;5;66;03m# Fall back to Python read pathway below\u001b[39;00m\n",
      "\u001b[0;31mKeyboardInterrupt\u001b[0m: "
     ]
    }
   ],
   "source": [
    "import scarches as sca\n",
    "import scanpy as sc\n",
    "import numpy as np\n",
    "\n",
    "datasets = [\"forebrain\", \"pancreas\", \"gastrulation_erythroid\", \"dentategyrus_lamanno_P5\"]\n",
    "\n",
    "# Specify the path to the dataset and model directory\n",
    "for dataset in datasets:\n",
    "    print(f\"dataset: {dataset}\")\n",
    "    model = \"expimap\"\n",
    "    model_path = f\"{dataset}/model\"\n",
    "\n",
    "    # Load the saved EXPIMAP model\n",
    "    adata_path = f\"{dataset}/{model}_{dataset}.h5ad\"\n",
    "    adata = sc.read_h5ad(adata_path)\n",
    "\n",
    "    # Assuming 'MuMs' and other necessary data are in `adata`\n",
    "    data = adata.obsm[\"MuMs\"]\n",
    "    adata_expimap = sc.AnnData(X=data)\n",
    "    adata_expimap.uns[\"terms\"] = adata.uns[\"terms\"].copy()\n",
    "    adata_expimap.obs = adata.obs.copy()\n",
    "    mask = adata.varm[\"I\"]\n",
    "    adata_expimap.varm[\"I\"] = np.concatenate([mask, mask], axis=0)\n",
    "\n",
    "    # Add a dummy 'study' column to adata_expimap.obs as required by EXPIMAP\n",
    "    adata_expimap.obs[\"study\"] = \"0\"\n",
    "\n",
    "    # Load the saved EXPIMAP model\n",
    "    intr_cvae = sca.models.EXPIMAP.load(model_path, adata=adata_expimap)\n",
    "    adata.obsm['z'] = intr_cvae.get_latent(mean=False, only_active=False)\n",
    "\n",
    "    print(f\"building adata gp\")\n",
    "    # Now the model is loaded, and you can perform further analysis or use its methods\n",
    "    z = adata.obsm[\"z\"].copy()\n",
    "    embedding_key_2d = \"X_umap\" if dataset == \"dentategyrus_lamanno\" else \"X_umap\"\n",
    "    umap = adata.obsm[embedding_key_2d].copy() \n",
    "    obs = adata.obs.copy()\n",
    "    var_names = adata.uns[\"terms\"]\n",
    "    gp_velocity = adata.obsm[\"gp_velo\"].copy()\n",
    "    adata_gp = sc.AnnData(X=z)\n",
    "    adata_gp.obs = obs\n",
    "    adata_gp.var_names = var_names\n",
    "    adata_gp.obsm[embedding_key_2d] = umap\n",
    "    adata_gp.layers[\"spliced\"] = adata_gp.X\n",
    "    adata_gp.layers[\"Ms\"] = adata_gp.X\n",
    "    adata_gp.layers[\"Mu\"] = adata_gp.X\n",
    "    adata_gp.uns = adata.uns.copy()\n",
    "    adata_gp.write(f\"{dataset}/adata_gp.h5ad\")"
   ]
  },
  {
   "cell_type": "code",
   "execution_count": null,
   "metadata": {},
   "outputs": [],
   "source": [
    "import numpy as np\n",
    "\n",
    "# Get the number of observations (cells) in the dataset\n",
    "n_cells = adata_expimap.n_obs\n",
    "\n",
    "# Define the fraction used for training\n",
    "train_frac = 0.9\n",
    "\n",
    "# Set the seed if one was used during training to ensure reproducibility\n",
    "np.random.seed(2020)  # Seed used during training\n",
    "\n",
    "# Generate a shuffled list of indices\n",
    "all_indices = np.arange(n_cells)\n",
    "np.random.shuffle(all_indices)\n",
    "\n",
    "# Determine the number of training samples\n",
    "n_train = int(n_cells * train_frac)\n",
    "\n",
    "# Split the indices into training and testing sets\n",
    "train_indices = all_indices[:n_train]\n",
    "test_indices = all_indices[n_train:]\n",
    "\n",
    "print(f\"Training indices: {train_indices}\")\n",
    "print(f\"Test indices: {test_indices}\")\n"
   ]
  },
  {
   "cell_type": "code",
   "execution_count": null,
   "metadata": {},
   "outputs": [],
   "source": [
    "import numpy as np\n",
    "import torch\n",
    "\n",
    "# Step 1: Extract the input data for the test indices\n",
    "input_data_test = adata_expimap.X[test_indices, :]  # Convert to dense if necessary\n",
    "\n",
    "# Step 2: Determine the device (CPU or GPU) from the model's parameters\n",
    "device = next(intr_cvae.model.parameters()).device  # Check the device of the model's parameters\n",
    "\n",
    "# Step 3: Use the model to reconstruct the data\n",
    "# Pass the input data through the model's decoder\n",
    "with torch.no_grad():  # Ensure the model doesn't compute gradients\n",
    "    input_tensor = torch.tensor(input_data_test).float().to(device)  # Ensure tensor is on the correct device\n",
    "    reconstructed_data_test = intr_cvae.model.decoder(input_tensor).cpu().numpy()  # Move the output back to CPU if necessary\n",
    "\n",
    "# Step 4: Compute MSE across genes for each cell\n",
    "mse_per_cell_test = np.mean((input_data_test - reconstructed_data_test) ** 2, axis=1)\n",
    "\n",
    "# Print or store the MSE for further analysis\n",
    "print(\"MSE per cell:\", mse_per_cell_test)\n"
   ]
  },
  {
   "cell_type": "code",
   "execution_count": null,
   "metadata": {},
   "outputs": [],
   "source": []
  },
  {
   "cell_type": "code",
   "execution_count": null,
   "metadata": {},
   "outputs": [],
   "source": [
    "print(f\"Input data shape: {input_data_test.shape}\")\n",
    "print(f\"Model input dimension: {intr_cvae.model.input_dim}\")\n"
   ]
  },
  {
   "cell_type": "code",
   "execution_count": null,
   "metadata": {},
   "outputs": [],
   "source": [
    "adata.varm"
   ]
  },
  {
   "cell_type": "code",
   "execution_count": null,
   "metadata": {},
   "outputs": [],
   "source": [
    "print(f\"Mask shape: {adata.varm['I'].shape}\")\n",
    "print(f\"Mask shape: {intr_cvae.model.mask.shape}\")\n"
   ]
  },
  {
   "cell_type": "code",
   "execution_count": null,
   "metadata": {},
   "outputs": [],
   "source": [
    "import pickle\n",
    "\n",
    "# Load the model's attributes dictionary to see the expected conditions\n",
    "with open(f\"{model_path}/attr.pkl\", \"rb\") as f:\n",
    "    attr_dict = pickle.load(f)\n",
    "\n",
    "# Print the expected conditions\n",
    "print(\"Expected conditions:\", attr_dict['conditions_'])\n"
   ]
  },
  {
   "cell_type": "code",
   "execution_count": null,
   "metadata": {},
   "outputs": [],
   "source": [
    "import scarches as sca\n",
    "import scanpy as sc\n",
    "import numpy as np\n",
    "import torch\n",
    "import pandas as pd\n",
    "\n",
    "# Load the saved EXPIMAP model\n",
    "dataset = \"forebrain\"\n",
    "model_path = f\"{dataset}/model\"\n",
    "adata_path = f\"{dataset}/expimap_{dataset}.h5ad\"\n",
    "adata = sc.read_h5ad(adata_path)\n",
    "\n",
    "data = adata.obsm[\"MuMs\"]\n",
    "adata_expimap = sc.AnnData(X=data)\n",
    "adata_expimap.uns[\"terms\"] = adata.uns[\"terms\"].copy()\n",
    "adata_expimap.obs = adata.obs.copy()\n",
    "mask = adata.varm[\"I\"]\n",
    "adata_expimap.varm[\"I\"] = np.concatenate([mask, mask], axis=0)\n",
    "\n",
    "# Initialize 'study' column in adata_expimap.obs to match expected condition\n",
    "adata_expimap.obs[\"study\"] = \"0\"  # Set to string '0' to match expected condition during training\n",
    "\n",
    "# Ensure 'study' column is of string type\n",
    "adata_expimap.obs[\"study\"] = adata_expimap.obs[\"study\"].astype(str)\n",
    "\n",
    "# Load the model ensuring the condition is already set in adata\n",
    "intr_cvae = sca.models.EXPIMAP.load(model_path, adata=adata_expimap)\n",
    "\n",
    "# Get the test indices from your earlier split\n",
    "n_cells = adata_expimap.n_obs\n",
    "train_frac = 0.9\n",
    "np.random.seed(2020)\n",
    "all_indices = np.arange(n_cells)\n",
    "np.random.shuffle(all_indices)\n",
    "n_train = int(n_cells * train_frac)\n",
    "train_indices = all_indices[:n_train]\n",
    "test_indices = all_indices[n_train:]\n",
    "\n",
    "# Extract test input data\n",
    "input_data_test = adata_expimap.X[test_indices, :]\n",
    "\n",
    "# Get the device\n",
    "device = next(intr_cvae.model.parameters()).device\n",
    "\n",
    "# Extract the condition labels for the test indices as a NumPy array\n",
    "condition_test = adata_expimap.obs[\"study\"].values[test_indices]\n",
    "\n",
    "# Create a mapping from condition labels to indices\n",
    "condition_to_label = {c: i for i, c in enumerate(intr_cvae.conditions_)}\n",
    "# Map the condition labels in condition_test to their corresponding indices\n",
    "condition_test_indices = np.array([condition_to_label[c] for c in condition_test])\n",
    "\n",
    "# Forward pass using the latent variables\n",
    "with torch.no_grad():\n",
    "    # Get the latent representation by passing input data and condition labels\n",
    "    z = intr_cvae.get_latent(x=input_data_test, c=condition_test)\n",
    "\n",
    "    # Convert z to a PyTorch tensor and move it to the correct device\n",
    "    z = torch.tensor(z).float().to(device)\n",
    "\n",
    "    # Prepare the batch tensor for the decoder\n",
    "    batch = torch.tensor(condition_test_indices).to(device)\n",
    "\n",
    "    # Pass the latent variables to the decoder to get the reconstructed data\n",
    "    reconstructed_data_test, _ = intr_cvae.model.decoder(z, batch=batch)\n",
    "    reconstructed_data_test = reconstructed_data_test.cpu().numpy()\n",
    "\n",
    "# Compute MSE across genes for each cell\n",
    "mse_per_cell_test = np.mean((input_data_test - reconstructed_data_test) ** 2, axis=1)\n",
    "print(\"MSE per cell:\", mse_per_cell_test)\n"
   ]
  },
  {
   "cell_type": "code",
   "execution_count": null,
   "metadata": {},
   "outputs": [],
   "source": [
    "adata.obs"
   ]
  },
  {
   "cell_type": "code",
   "execution_count": null,
   "metadata": {},
   "outputs": [],
   "source": [
    "intr_cvae.trainer"
   ]
  },
  {
   "cell_type": "code",
   "execution_count": null,
   "metadata": {},
   "outputs": [],
   "source": [
    "mse_per_cell_test.shape"
   ]
  },
  {
   "cell_type": "code",
   "execution_count": null,
   "metadata": {},
   "outputs": [],
   "source": [
    "reconstructed_data_test"
   ]
  },
  {
   "cell_type": "code",
   "execution_count": null,
   "metadata": {},
   "outputs": [],
   "source": [
    "print(f\"Input data shape: {input_data_test.shape}\")  # Should be (N, 4898)\n",
    "print(f\"Mask shape: {adata_expimap.varm['I'].shape}\")  # Should align with features\n",
    "print(f\"Model input dimension: {intr_cvae.model.input_dim}\")\n",
    "\n"
   ]
  },
  {
   "cell_type": "code",
   "execution_count": null,
   "metadata": {},
   "outputs": [],
   "source": [
    "# Forward pass with the condition\n",
    "with torch.no_grad():\n",
    "    input_tensor = torch.tensor(input_data_test).float().to(device)\n",
    "    output = intr_cvae.model(input_tensor, batch=condition_test)  # Pass the condition\n",
    "    \n",
    "    # Check what the output is by inspecting each element\n",
    "    print(f\"Output: {output}\")\n",
    "\n",
    "    # If we expect reconstructed data, let's inspect the individual components of the tuple\n",
    "    for i, part in enumerate(output):\n",
    "        print(f\"Part {i} - shape: {part.shape if isinstance(part, torch.Tensor) else part}\")\n"
   ]
  },
  {
   "cell_type": "code",
   "execution_count": null,
   "metadata": {},
   "outputs": [],
   "source": [
    "# Forward pass using the latent variables\n",
    "with torch.no_grad():\n",
    "    # Assuming `get_latent()` encodes the input data\n",
    "    z = intr_cvae.get_latent(input_data_test)  # Get latent representation\n",
    "    \n",
    "    # Now pass the latent variables to the decoder to get the reconstructed data\n",
    "    reconstructed_data_test, _ = intr_cvae.model.decoder(z, batch=condition_test)\n",
    "    reconstructed_data_test = reconstructed_data_test.cpu().numpy()\n",
    "\n",
    "# Compute MSE across genes for each cell\n",
    "mse_per_cell_test = np.mean((input_data_test - reconstructed_data_test) ** 2, axis=1)\n",
    "print(\"MSE per cell:\", mse_per_cell_test)\n"
   ]
  }
 ],
 "metadata": {
  "kernelspec": {
   "display_name": "DeepTrajectory",
   "language": "python",
   "name": "python3"
  },
  "language_info": {
   "codemirror_mode": {
    "name": "ipython",
    "version": 3
   },
   "file_extension": ".py",
   "mimetype": "text/x-python",
   "name": "python",
   "nbconvert_exporter": "python",
   "pygments_lexer": "ipython3",
   "version": "3.11.7"
  }
 },
 "nbformat": 4,
 "nbformat_minor": 2
}
