{
 "cells": [
  {
   "cell_type": "code",
   "execution_count": null,
   "metadata": {},
   "outputs": [],
   "source": [
    "import scanpy as sc\n",
    "import scvelo as scv\n",
    "import numpy as np\n",
    "\n",
    "dataset_name = \"pancreas\"\n",
    "model = \"lsvelo\"\n",
    "cell_type_key = \"clusters\"\n",
    "pseudotime_key = \"isomap_1\"\n",
    "\n",
    "adata_path = f\"../{model}/{dataset_name}/{model}_{dataset_name}.h5ad\"\n",
    "adata = sc.read_h5ad(adata_path)\n"
   ]
  },
  {
   "cell_type": "code",
   "execution_count": null,
   "metadata": {},
   "outputs": [],
   "source": [
    "adata[adata.obs[\"clusters\"] == \"ImmAstro\"]"
   ]
  },
  {
   "cell_type": "code",
   "execution_count": null,
   "metadata": {},
   "outputs": [],
   "source": [
    "adata.obs[\"clusters\"]"
   ]
  },
  {
   "cell_type": "code",
   "execution_count": null,
   "metadata": {},
   "outputs": [],
   "source": [
    "idx_ngn3 = adata.obs[\"clusters\"] == \"Ngn3 low EP\"\n",
    "idx_ductal = adata.obs[\"clusters\"] == \"Ductal\"\n",
    "idx_epsilon = adata.obs[\"clusters\"] == \"Epsilon\"\n",
    "\n",
    "\n",
    "# Modify the actual layer directly\n",
    "#adata.layers[\"velocity\"][idx_epsilon, :] *= -1\n",
    "adata.layers[\"velocity\"][idx_ductal, :] *= -1\n",
    "adata.layers[\"velocity\"][idx_ngn3, :] *= -1\n"
   ]
  },
  {
   "cell_type": "code",
   "execution_count": null,
   "metadata": {},
   "outputs": [],
   "source": [
    "adata.write_h5ad(f\"../{model}/{dataset_name}/{model}_{dataset_name}.h5ad\")"
   ]
  },
  {
   "cell_type": "code",
   "execution_count": null,
   "metadata": {},
   "outputs": [],
   "source": [
    "sc.pp.neighbors(adata)\n",
    "scv.tl.velocity_graph(adata)\n",
    "scv.pl.velocity_embedding_stream(adata, color=\"clusters\")"
   ]
  },
  {
   "cell_type": "code",
   "execution_count": null,
   "metadata": {},
   "outputs": [],
   "source": [
    "adata"
   ]
  },
  {
   "cell_type": "code",
   "execution_count": null,
   "metadata": {},
   "outputs": [],
   "source": [
    "adata_subset = adata[(adata.obs[\"clusters\"] == \"Ductal\") | (adata.obs[\"clusters\"] == \"Ngn3 low EP\")].copy()\n",
    "adata_subset"
   ]
  },
  {
   "cell_type": "code",
   "execution_count": null,
   "metadata": {},
   "outputs": [],
   "source": [
    "adata_subset = adata[idx].copy()"
   ]
  },
  {
   "cell_type": "code",
   "execution_count": null,
   "metadata": {},
   "outputs": [],
   "source": [
    "adata_subset.obs[\"clusters\"]"
   ]
  },
  {
   "cell_type": "code",
   "execution_count": null,
   "metadata": {},
   "outputs": [],
   "source": [
    "sc.pp.neighbors(adata_subset)\n",
    "sc.tl.umap(adata_subset)\n",
    "sc.pl.umap(adata_subset, color=\"clusters\")"
   ]
  },
  {
   "cell_type": "code",
   "execution_count": null,
   "metadata": {},
   "outputs": [],
   "source": [
    "sc.pl.umap(adata, color=pseudotime_key)\n",
    "velocity_pseudotime = np.array(adata.obs[\"velocity_pseudotime\"])\n",
    "np.save(f\"pseudotimes/{dataset_name}_pseudotime.npy\", velocity_pseudotime)"
   ]
  },
  {
   "cell_type": "code",
   "execution_count": null,
   "metadata": {},
   "outputs": [],
   "source": []
  },
  {
   "cell_type": "code",
   "execution_count": null,
   "metadata": {},
   "outputs": [],
   "source": []
  },
  {
   "cell_type": "code",
   "execution_count": null,
   "metadata": {},
   "outputs": [],
   "source": [
    "import os\n",
    "os.makedirs(\"pseudotimes\", exist_ok=True)"
   ]
  },
  {
   "cell_type": "code",
   "execution_count": null,
   "metadata": {},
   "outputs": [],
   "source": []
  },
  {
   "cell_type": "code",
   "execution_count": null,
   "metadata": {},
   "outputs": [],
   "source": []
  },
  {
   "cell_type": "code",
   "execution_count": null,
   "metadata": {},
   "outputs": [],
   "source": [
    "import scanpy as sc\n",
    "import scvelo as scv"
   ]
  },
  {
   "cell_type": "code",
   "execution_count": null,
   "metadata": {},
   "outputs": [],
   "source": [
    "adata = scv.datasets.forebrain()"
   ]
  },
  {
   "cell_type": "code",
   "execution_count": null,
   "metadata": {},
   "outputs": [],
   "source": [
    "from scvelo_adapted_plots import plot_phase_plane"
   ]
  },
  {
   "cell_type": "code",
   "execution_count": null,
   "metadata": {},
   "outputs": [],
   "source": [
    "adata.layers[\"velocity\"] *=-1\n",
    "adata.layers[\"velocity_u\"] *=-1"
   ]
  },
  {
   "cell_type": "code",
   "execution_count": null,
   "metadata": {},
   "outputs": [],
   "source": [
    "sc.pp.neighbors(adata)\n",
    "scv.tl.velocity_graph(adata)\n",
    "scv.pl.velocity_embedding_stream(adata, color=\"Clusters\")"
   ]
  },
  {
   "cell_type": "code",
   "execution_count": null,
   "metadata": {},
   "outputs": [],
   "source": [
    "plot_phase_plane(adata, gene_name=\"Gnas\", cell_type_key=\"Clusters\", u_scale=.01, s_scale=.01)"
   ]
  },
  {
   "cell_type": "code",
   "execution_count": null,
   "metadata": {},
   "outputs": [],
   "source": []
  },
  {
   "cell_type": "code",
   "execution_count": null,
   "metadata": {},
   "outputs": [],
   "source": []
  }
 ],
 "metadata": {
  "kernelspec": {
   "display_name": "DeepTrajectory",
   "language": "python",
   "name": "python3"
  },
  "language_info": {
   "codemirror_mode": {
    "name": "ipython",
    "version": 3
   },
   "file_extension": ".py",
   "mimetype": "text/x-python",
   "name": "python",
   "nbconvert_exporter": "python",
   "pygments_lexer": "ipython3",
   "version": "3.11.7"
  }
 },
 "nbformat": 4,
 "nbformat_minor": 2
}
