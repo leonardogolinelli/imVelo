{
 "cells": [
  {
   "cell_type": "code",
   "execution_count": 1,
   "metadata": {},
   "outputs": [],
   "source": [
    "import scanpy as sc\n",
    "from train import Trainer\n",
    "import pickle\n",
    "from model import VAE\n",
    "import torch"
   ]
  },
  {
   "cell_type": "code",
   "execution_count": 2,
   "metadata": {},
   "outputs": [],
   "source": [
    "# Preprocessing parameters\n",
    "dataset_name = \"pancreas\"\n",
    "preproc_adata = True\n",
    "smooth_k = 200\n",
    "n_highly_var_genes = 4000\n",
    "cell_type_key = \"clusters\"\n",
    "save_umap = False\n",
    "show_umap = False\n",
    "unspliced_key = \"unspliced\"\n",
    "spliced_key = \"spliced\"\n",
    "filter_on_r2 = False\n",
    "knn_rep = \"ve\"\n",
    "n_components = 10\n",
    "n_knn_search = 10\n",
    "best_key = None\n",
    "K = 31\n",
    "ve_layer = \"None\"\n",
    "\n",
    "# Training parameters\n",
    "model_hidden_dim = 512\n",
    "K= K\n",
    "train_size = 1\n",
    "batch_size = 256\n",
    "n_epochs = 2500\n",
    "first_regime_end = 2000\n",
    "kl_start = 1e-5\n",
    "base_lr = 1e-4\n",
    "recon_loss_weight = 1\n",
    "empirical_loss_weight = 1\n",
    "kl_weight_upper = 1e-4\n",
    "p_loss_weight = 1e-1\n",
    "split_data = False\n",
    "weight_decay = 1e-4"
   ]
  },
  {
   "cell_type": "code",
   "execution_count": 5,
   "metadata": {},
   "outputs": [
    {
     "data": {
      "text/plain": [
       "<All keys matched successfully>"
      ]
     },
     "execution_count": 5,
     "metadata": {},
     "output_type": "execute_result"
    }
   ],
   "source": [
    "adata = sc.read_h5ad(\"outputs_frozen_encoder_decoder/pancreas/K31/adata/adata_K31_dt_ve.h5ad\")\n",
    "with open('outputs_frozen_encoder_decoder/pancreas/K31/trainer/trainer_K31_dt_ve.pkl', 'rb') as file:\n",
    "    trainer = pickle.load(file)\n",
    "\n",
    "model_path = \"outputs_frozen_encoder_decoder/pancreas/K31/model/model_K31_dt_ve.pth\"\n",
    "model = VAE(adata, 512, \"cpu\")\n",
    "checkpoint = torch.load(model_path)\n",
    "model.load_state_dict(checkpoint, strict=False)"
   ]
  },
  {
   "cell_type": "code",
   "execution_count": null,
   "metadata": {},
   "outputs": [],
   "source": []
  }
 ],
 "metadata": {
  "kernelspec": {
   "display_name": "DeepTrajectory",
   "language": "python",
   "name": "python3"
  },
  "language_info": {
   "codemirror_mode": {
    "name": "ipython",
    "version": 3
   },
   "file_extension": ".py",
   "mimetype": "text/x-python",
   "name": "python",
   "nbconvert_exporter": "python",
   "pygments_lexer": "ipython3",
   "version": "3.11.7"
  }
 },
 "nbformat": 4,
 "nbformat_minor": 2
}
