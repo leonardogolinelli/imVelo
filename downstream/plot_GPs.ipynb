{
 "cells": [
  {
   "cell_type": "code",
   "execution_count": 1,
   "metadata": {},
   "outputs": [],
   "source": [
    "import scanpy as sc\n",
    "import scvelo as scv"
   ]
  },
  {
   "cell_type": "code",
   "execution_count": 2,
   "metadata": {},
   "outputs": [],
   "source": [
    "#adata = sc.read_h5ad(\"/mnt/data2/home/leonardo/git/imVelo/benchmark/imVelo/gastrulation_erythroid/gastrulation_erythroid/K11/gpvelo/adata_gp.h5ad\")\n",
    "adata = sc.read_h5ad(\"/mnt/data2/home/leonardo/git/imVelo/benchmark_old/imVelo/gastrulation_erythroid/gastrulation_erythroid/K11/adata/adata_K11_dt_ve.h5ad\")\n",
    "#sc.pp.neighbors(adata)\n",
    "#scv.tl.velocity_graph(adata)\n",
    "#scv.pl.velocity_embedding_stream(adata, color=\"clusters\")"
   ]
  },
  {
   "cell_type": "code",
   "execution_count": 11,
   "metadata": {},
   "outputs": [],
   "source": [
    "import numpy as np"
   ]
  },
  {
   "cell_type": "code",
   "execution_count": 14,
   "metadata": {},
   "outputs": [
    {
     "data": {
      "text/plain": [
       "array(['Erythroid1', 'Erythroid1', 'Erythroid2', ..., 'Erythroid1',\n",
       "       'Erythroid1', 'Erythroid1'], dtype='<U19')"
      ]
     },
     "execution_count": 14,
     "metadata": {},
     "output_type": "execute_result"
    }
   ],
   "source": [
    "np.array(list(adata.obs[\"celltype\"]))"
   ]
  },
  {
   "cell_type": "code",
   "execution_count": 15,
   "metadata": {},
   "outputs": [
    {
     "data": {
      "text/plain": [
       "array([-8.38195204, -8.42638869, -8.55658862, ..., -8.2601007 ,\n",
       "       -8.4767081 , -7.9042575 ])"
      ]
     },
     "execution_count": 15,
     "metadata": {},
     "output_type": "execute_result"
    }
   ],
   "source": [
    "np.array(list(adata.obs[\"directional_cosine_sim_variance\"]))"
   ]
  },
  {
   "cell_type": "code",
   "execution_count": null,
   "metadata": {},
   "outputs": [],
   "source": [
    "gene_names_u = [name + \"_u\" for name in list(adata_original.var_names)]\n",
    "gene_names_s = [name + \"_s\" for name in list(adata_original.var_names)]\n",
    "gene_names = gene_names_u + gene_names_s\n",
    "adata.uns[\"gene_names\"] = gene_names"
   ]
  },
  {
   "cell_type": "code",
   "execution_count": 8,
   "metadata": {},
   "outputs": [
    {
     "data": {
      "text/plain": [
       "(247,)"
      ]
     },
     "execution_count": 8,
     "metadata": {},
     "output_type": "execute_result"
    }
   ],
   "source": [
    "adata.obsm[\"z\"].mean(0).shape"
   ]
  },
  {
   "cell_type": "code",
   "execution_count": null,
   "metadata": {},
   "outputs": [],
   "source": [
    "sc.pl.umap(adata_original, color=\"Hbb-bh1\")"
   ]
  },
  {
   "cell_type": "code",
   "execution_count": null,
   "metadata": {},
   "outputs": [],
   "source": [
    "gene_idx = list(adata_original.var_names).index(\"Hbb-bh1\")\n",
    "gene_idx\n"
   ]
  },
  {
   "cell_type": "code",
   "execution_count": null,
   "metadata": {},
   "outputs": [],
   "source": [
    "len(adata_original.var_names) + gene_idx"
   ]
  },
  {
   "cell_type": "code",
   "execution_count": null,
   "metadata": {},
   "outputs": [],
   "source": [
    "adata.layers[\"z\"]"
   ]
  },
  {
   "cell_type": "code",
   "execution_count": null,
   "metadata": {},
   "outputs": [],
   "source": [
    "adata.uns[\"linear_weights\"][gene_idx + len(adata_original.var_names)]"
   ]
  },
  {
   "cell_type": "code",
   "execution_count": null,
   "metadata": {},
   "outputs": [],
   "source": [
    "import pandas as pd\n",
    "\n",
    "def find_top_gene_programs(adata_genes, adata_programs, gene_name, top_n=3):\n",
    "    # Check if the gene is in adata_genes.var_names\n",
    "    if gene_name not in adata_genes.var_names:\n",
    "        raise ValueError(f\"Gene {gene_name} not found in adata_genes.var_names.\")\n",
    "    \n",
    "    # Get the index of the gene in adata_genes (assuming adata_genes has no _u/_s)\n",
    "    gene_idx = list(adata_genes.var_names).index(gene_name)\n",
    "    \n",
    "    # Get the corresponding unspliced and spliced indices in adata_programs\n",
    "    unspliced_idx = gene_idx  # Position for unspliced version in adata_programs\n",
    "    spliced_idx = gene_idx + len(adata_genes.var_names)  # Position for spliced version in adata_programs\n",
    "\n",
    "    # Get the weights for this gene across all gene programs\n",
    "    gene_weights_u = adata_programs.uns[\"linear_weights\"][unspliced_idx, :]  # unspliced\n",
    "    gene_weights_s = adata_programs.uns[\"linear_weights\"][spliced_idx, :]    # spliced\n",
    "    \n",
    "    # Create a DataFrame with gene program names and corresponding weights\n",
    "    df = pd.DataFrame({\n",
    "        'gene_program': adata_programs.var_names,\n",
    "        'gene_weight_unspliced': gene_weights_u,\n",
    "        'gene_weight_spliced': gene_weights_s\n",
    "    })\n",
    "    \n",
    "    # Sort by unspliced and spliced gene weights separately\n",
    "    df_sorted_u = df.sort_values(by='gene_weight_unspliced', ascending=False).head(top_n)\n",
    "    df_sorted_s = df.sort_values(by='gene_weight_spliced', ascending=False).head(top_n)\n",
    "    \n",
    "    return df_sorted_u, df_sorted_s\n",
    "\n",
    "# Example usage:\n",
    "top_programs_u, top_programs_s = find_top_gene_programs(adata_original, adata, \"Hbb-bh1\", top_n=-1)\n",
    "display(top_programs_u)\n",
    "display(top_programs_s)\n"
   ]
  },
  {
   "cell_type": "code",
   "execution_count": null,
   "metadata": {},
   "outputs": [],
   "source": [
    "import pandas as pd\n",
    "\n",
    "def get_gene_program_weights(adata, gene_program_name):\n",
    "    # Find the index of the gene program\n",
    "    program_idx = list(adata.uns[\"terms\"]).index(gene_program_name)\n",
    "    \n",
    "    # Get the weights for the gene program\n",
    "    gene_weights = adata.uns[\"linear_weights\"][:, program_idx]\n",
    "    \n",
    "    # Create a DataFrame with gene names and their corresponding weights\n",
    "    df = pd.DataFrame({\n",
    "        'gene_name': adata.uns[\"gene_names\"],\n",
    "        'gene_weight': gene_weights\n",
    "    })\n",
    "    \n",
    "    # Sort the DataFrame by gene weights in descending order\n",
    "    df_sorted = df.sort_values(by='gene_weight', ascending=False).reset_index(drop=True)\n",
    "    \n",
    "    return df_sorted\n",
    "\n",
    "# Example usage:\n",
    "gene_program_name = \"ERYTHROID-LIKE_AND_ERYTHROID_P\"  # Replace with the actual gene program name\n",
    "df_gene_program_weights = get_gene_program_weights(adata, gene_program_name)\n",
    "display(df_gene_program_weights)\n"
   ]
  },
  {
   "cell_type": "code",
   "execution_count": null,
   "metadata": {},
   "outputs": [],
   "source": [
    "import scanpy as sc"
   ]
  },
  {
   "cell_type": "code",
   "execution_count": null,
   "metadata": {},
   "outputs": [],
   "source": [
    "adata = sc.read_h5ad(\"/mnt/data2/home/leonardo/git/imVelo/benchmark_old/imVelo/forebrain/forebrain/K11/gpvelo/adata_gp.h5ad\")\n",
    "adata.uns[\"terms\"]"
   ]
  },
  {
   "cell_type": "code",
   "execution_count": null,
   "metadata": {},
   "outputs": [],
   "source": [
    "sc.pl.scatter(adata, x=\"isomap_1\", y=\"PRE_NOTCH_EXPRESSION_AND_PROCE\", color=\"Clusters\")"
   ]
  },
  {
   "cell_type": "code",
   "execution_count": null,
   "metadata": {},
   "outputs": [],
   "source": [
    "sc.pl.scatter(adata, x=\"isomap_1\", y=\"NOTCH1_INTRACELLULAR_DOMAIN_RE\", color=\"Clusters\")"
   ]
  },
  {
   "cell_type": "code",
   "execution_count": null,
   "metadata": {},
   "outputs": [],
   "source": [
    "sc.pl.scatter(adata, x=\"isomap_1\", y=\"SIGNALING_BY_NOTCH1\", color=\"Clusters\")"
   ]
  },
  {
   "cell_type": "code",
   "execution_count": null,
   "metadata": {},
   "outputs": [],
   "source": [
    "import numpy as np"
   ]
  },
  {
   "cell_type": "code",
   "execution_count": null,
   "metadata": {},
   "outputs": [],
   "source": [
    "df_gene_program_weights.iloc[np.where(df_gene_program_weights.gene_name == \"Ghrl_s\")[0],:]"
   ]
  },
  {
   "cell_type": "code",
   "execution_count": null,
   "metadata": {},
   "outputs": [],
   "source": [
    "df_gene_program_weights.iloc[np.where(df_gene_program_weights.gene_name == \"Ghrl_u\")[0],:]"
   ]
  },
  {
   "cell_type": "code",
   "execution_count": null,
   "metadata": {},
   "outputs": [],
   "source": [
    "adata.uns[\"linear_weights\"][49]"
   ]
  },
  {
   "cell_type": "code",
   "execution_count": null,
   "metadata": {},
   "outputs": [],
   "source": [
    "adata.obs[\"velocity_pseudotime\"]"
   ]
  },
  {
   "cell_type": "code",
   "execution_count": null,
   "metadata": {},
   "outputs": [],
   "source": [
    "sc.pl.scatter(adata, x=\"velocity_pseudotime\",\n",
    "               y=\"OLIGODENDROCYTE_PROGENITOR_CEL\",\n",
    "               layers=\"velocity\",\n",
    "               color=\"clusters\")"
   ]
  },
  {
   "cell_type": "code",
   "execution_count": null,
   "metadata": {},
   "outputs": [],
   "source": [
    "sc.pl.scatter(adata, x=\"velocity_pseudotime\", y=\"OLIGODENDROCYTE_PROGENITOR_CEL\", color=\"clusters\")"
   ]
  },
  {
   "cell_type": "code",
   "execution_count": null,
   "metadata": {},
   "outputs": [],
   "source": [
    "adata.obs[\"veloci\"]"
   ]
  },
  {
   "cell_type": "code",
   "execution_count": null,
   "metadata": {},
   "outputs": [],
   "source": [
    "sc.pl.scatter(adata, x=\"velocity_pseudotime\",\n",
    "               y=\"ASTROCYTES\",\n",
    "               layers=\"velocity\",\n",
    "               color=\"clusters\",\n",
    "               title=\"GP velocity of ASTROCYTES over time\")\n",
    "\n",
    "sc.pl.scatter(adata, x=\"velocity_pseudotime\",\n",
    "               y=\"OLIGODENDROCYTE_PROGENITOR_CEL\",\n",
    "               layers=\"velocity\",\n",
    "               color=\"clusters\",\n",
    "               title=\"GP velocity of OPCs over time\")\n"
   ]
  },
  {
   "cell_type": "code",
   "execution_count": null,
   "metadata": {},
   "outputs": [],
   "source": [
    "sc.pl.scatter(adata, x=\"OLIGODENDROCYTE_PROGENITOR_CEL\",\n",
    "               y=\"ASTROCYTES\",\n",
    "               layers=\"velocity\",\n",
    "               color=\"clusters\")"
   ]
  },
  {
   "cell_type": "code",
   "execution_count": null,
   "metadata": {},
   "outputs": [],
   "source": [
    "import scanpy as sc\n",
    "import scvelo as scv"
   ]
  },
  {
   "cell_type": "code",
   "execution_count": null,
   "metadata": {},
   "outputs": [],
   "source": []
  },
  {
   "cell_type": "code",
   "execution_count": null,
   "metadata": {},
   "outputs": [],
   "source": [
    "adata"
   ]
  },
  {
   "cell_type": "code",
   "execution_count": null,
   "metadata": {},
   "outputs": [],
   "source": [
    "sc.pl.scatter(adata, x=\"isomap_1\", y=\"ERYTHROID-LIKE_AND_ERYTHROID_P\",color=\"celltype\",\n",
    "              title=\"ERYTHROID gene program vs isomap's first component\")"
   ]
  },
  {
   "cell_type": "code",
   "execution_count": null,
   "metadata": {},
   "outputs": [],
   "source": [
    "sc.pl.umap(adata, color=\"ERYTHROID-LIKE_AND_ERYTHROID_P\")"
   ]
  },
  {
   "cell_type": "code",
   "execution_count": null,
   "metadata": {},
   "outputs": [],
   "source": [
    "sc.pl.umap(adata, color=\"celltype\")"
   ]
  },
  {
   "cell_type": "code",
   "execution_count": null,
   "metadata": {},
   "outputs": [],
   "source": [
    "adata.uns[\"terms\"]"
   ]
  },
  {
   "cell_type": "code",
   "execution_count": null,
   "metadata": {},
   "outputs": [],
   "source": [
    "adata = sc.read_h5ad(\"/mnt/data2/home/leonardo/git/imVelo/benchmark_old/imVelo/pancreas/pancreas/K11/adata/adata_K11_dt_ve.h5ad\")"
   ]
  }
 ],
 "metadata": {
  "kernelspec": {
   "display_name": "DeepTrajectory",
   "language": "python",
   "name": "python3"
  },
  "language_info": {
   "codemirror_mode": {
    "name": "ipython",
    "version": 3
   },
   "file_extension": ".py",
   "mimetype": "text/x-python",
   "name": "python",
   "nbconvert_exporter": "python",
   "pygments_lexer": "ipython3",
   "version": "3.11.7"
  }
 },
 "nbformat": 4,
 "nbformat_minor": 2
}
